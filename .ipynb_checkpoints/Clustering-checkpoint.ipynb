{
 "cells": [
  {
   "cell_type": "code",
   "execution_count": 1,
   "metadata": {},
   "outputs": [],
   "source": [
    "from pyspark.sql import SparkSession\n",
    "from pyspark.sql import Window\n",
    "from pyspark.sql import types \n",
    "from pyspark.sql.functions import *\n",
    "from pyspark.ml.feature import PCA\n",
    "from pyspark.ml.linalg import Vectors  # Pre 2.0 pyspark.mllib.linalg\n",
    "from pyspark.ml.feature import VectorAssembler\n",
    "#Kmeans \n",
    "from pyspark.ml.clustering import KMeans\n",
    "# Clustering Evaluator\n",
    "from pyspark.ml.evaluation import ClusteringEvaluator\n",
    "\n",
    "\n",
    "ss = SparkSession.builder.config('spark.driver.extraClassPath',\n",
    "                                 'postgresql-42.2.18.jar') \\\n",
    "                        .config('spark.driver.memory',\n",
    "                                 '8g') \\\n",
    "                        .config('spark.executor.memory',\n",
    "                                 '8g') \\\n",
    "                         .getOrCreate()\n",
    "sc = ss.sparkContext"
   ]
  },
  {
   "cell_type": "code",
   "execution_count": 2,
   "metadata": {},
   "outputs": [],
   "source": [
    "# #df.write.csv('mycsv.csv')\n",
    "# df_pca.write.parquet('/Users/christabelle/classes/Spring/DistrComp_694/FoxInsight (1)/df_pca')"
   ]
  },
  {
   "cell_type": "code",
   "execution_count": 3,
   "metadata": {},
   "outputs": [],
   "source": [
    "# data = ss.read.parquet('/Users/christabelle/classes/Spring/DistrComp_694/FoxInsight (1)/df_pca/*')"
   ]
  },
  {
   "cell_type": "code",
   "execution_count": 4,
   "metadata": {},
   "outputs": [],
   "source": [
    "# load data locally\n",
    "df_pca = ss.read.parquet(\"df_pca\")"
   ]
  },
  {
   "cell_type": "code",
   "execution_count": 5,
   "metadata": {},
   "outputs": [],
   "source": [
    "kmeans =  KMeans(k = 6, maxIter = 200, tol = 0.01, featuresCol='pca', seed=11) \n",
    "model = kmeans.fit(df_pca)\n",
    "df_kmeans = model.transform(df_pca)"
   ]
  },
  {
   "cell_type": "code",
   "execution_count": 6,
   "metadata": {},
   "outputs": [
    {
     "name": "stdout",
     "output_type": "stream",
     "text": [
      "+----------+\n",
      "|prediction|\n",
      "+----------+\n",
      "|         1|\n",
      "|         3|\n",
      "|         5|\n",
      "|         4|\n",
      "|         2|\n",
      "|         0|\n",
      "+----------+\n",
      "\n"
     ]
    }
   ],
   "source": [
    "df_kmeans.select('prediction').distinct().show()"
   ]
  },
  {
   "cell_type": "code",
   "execution_count": 7,
   "metadata": {},
   "outputs": [
    {
     "name": "stdout",
     "output_type": "stream",
     "text": [
      "['COVPDDiag', 'COVSympInfect', 'COVProDiag', 'COVTest', 'COVFever', 'COVCough', 'COVSympChill', 'COVSympSweat', 'COVSympShortBreath', 'COVSympChestTight', 'COVSympChestPain', 'COVSympTired', 'COVSympSleepy', 'COVSympSoreThroat', 'COVSympCongest', 'COVSympMuscleAche', 'COVSympJointPain', 'COVSympLoseSmell', 'COVSympLoseTase', 'COVSympLoseApetite', 'COVSympDiarrhea', 'COVSympStomachPain', 'COVSympNausea', 'COVSympVomit', 'COVSympLightHead', 'COVSelfIsolate', 'COVLivingSituation', 'COVRegion', 'COVSocialDistancing', 'COVAlterPhysTher', 'COVAlterSpeechTher', 'COVAlterOccTher', 'COVAlterMenHealth', 'COVAlterSpprtGrp', 'COVAlterExercise', 'COVAlterSeeFamily', 'COVAlterSeeFriend', 'COVAlterCommunAct', 'COVAlterReligAct', 'COVAlterVolntrAct', 'COVAlterClinVisit', 'COVAlterOthMedApt', 'COVSocDisWork', 'COVSocDisHouseFinance', 'COVRschAttdtChange', 'COVRschPartcpLikely', 'fox_insight_id', 'age', 'Sex', 'RaceW', 'RaceAA', 'RaceAI', 'RaceA', 'EthnNotHispanic', 'EthnMexican', 'EthnPuerto', 'EthnLatino', 'Education', 'Income', 'Employment', 'Veteran', 'Research', 'days_elapsed', 'max_days', 'positive', 'negative', 'energy', 'lonely', 'features', 'pca', 'prediction']\n"
     ]
    }
   ],
   "source": [
    "print(df_kmeans.columns)"
   ]
  },
  {
   "cell_type": "code",
   "execution_count": 8,
   "metadata": {},
   "outputs": [
    {
     "name": "stdout",
     "output_type": "stream",
     "text": [
      "Cluster Centers: \n",
      "[ 2.41841156e+04  8.13479593e-01 -1.11799012e+01 -4.07345454e+00\n",
      "  5.62150128e+00 -1.19350663e+01 -3.35388423e+00  2.98856784e+00\n",
      " -3.00671258e+00  7.42716609e-01 -2.70878370e+00 -2.14625984e-01\n",
      "  4.07236654e-01  3.55162065e+00  5.27999631e+00]\n",
      "(15,)\n",
      "[ 4.07254176e+04  1.17105735e+00 -1.14340086e+01 -3.46792986e+00\n",
      "  6.34456874e+00 -1.14061546e+01 -3.46082635e+00  1.96920517e+00\n",
      " -3.51747620e+00  6.61113304e-01 -3.07844759e+00 -5.14982503e-01\n",
      "  4.26744103e-01  3.41357928e+00  5.27916576e+00]\n",
      "(15,)\n",
      "[ 2.90126428e+04  5.02173456e-01 -1.15281831e+01 -4.26883902e+00\n",
      "  5.94289619e+00 -1.17486841e+01 -3.41079925e+00  2.19722321e+00\n",
      " -3.63461133e+00  7.12588241e-01 -2.29695647e+00 -6.63014403e-01\n",
      "  2.18599096e-01  3.66333870e+00  5.18807352e+00]\n",
      "(15,)\n",
      "[ 1.52620164e+04  1.39059943e+00 -9.83911714e+00 -3.26270953e+00\n",
      "  6.95304116e+00 -1.05187140e+01 -3.85508793e+00  2.12294335e+00\n",
      " -3.69787163e+00  1.10402750e+00 -2.79939714e+00 -7.77671211e-01\n",
      "  6.34860451e-01  3.36280528e+00  5.10702869e+00]\n",
      "(15,)\n",
      "[ 3.64567848e+04  5.13636362e-01 -1.02365855e+01 -3.83184863e+00\n",
      "  6.17044476e+00 -1.13757883e+01 -3.66848058e+00  2.61196605e+00\n",
      " -3.39522168e+00  1.23797353e+00 -2.41920407e+00 -4.20359367e-01\n",
      "  4.89373362e-01  3.61833614e+00  5.00683216e+00]\n",
      "(15,)\n",
      "[ 3.27510265e+04  8.74813579e-01 -1.10123032e+01 -4.46187514e+00\n",
      "  5.72104667e+00 -1.14754235e+01 -3.79477716e+00  2.86561941e+00\n",
      " -3.11019571e+00  6.74876485e-01 -2.92035420e+00 -6.11293404e-01\n",
      "  8.35193840e-01  3.53133314e+00  5.16725117e+00]\n",
      "(15,)\n"
     ]
    }
   ],
   "source": [
    "# Center of each cluster\n",
    "centers = model.clusterCenters()\n",
    "print(\"Cluster Centers: \")\n",
    "for center in centers:\n",
    "    print(center)\n",
    "    print(center.shape)"
   ]
  },
  {
   "cell_type": "code",
   "execution_count": 9,
   "metadata": {},
   "outputs": [
    {
     "name": "stdout",
     "output_type": "stream",
     "text": [
      "Silhouette with squared euclidean distance = 0.7350327254965526\n"
     ]
    }
   ],
   "source": [
    "evaluator = ClusteringEvaluator(featuresCol='pca')\n",
    "silhouette = evaluator.evaluate(df_kmeans)\n",
    "print(\"Silhouette with squared euclidean distance = \" + str(silhouette))"
   ]
  },
  {
   "cell_type": "markdown",
   "metadata": {},
   "source": [
    "\"The silhouette value is a measure of how similar an object is to its own cluster (cohesion) compared to other clusters (separation). The silhouette ranges from −1 to +1, where a high value indicates that the object is well matched to its own cluster and poorly matched to neighboring clusters. If most objects have a high value, then the clustering configuration is appropriate. If many points have a low or negative value, then the clustering configuration may have too many or too few clusters.\""
   ]
  },
  {
   "cell_type": "code",
   "execution_count": 10,
   "metadata": {},
   "outputs": [],
   "source": [
    "first = df_kmeans.filter(df_kmeans['prediction']==0)\n",
    "second = df_kmeans.filter(df_kmeans['prediction']==1)\n",
    "third = df_kmeans.filter(df_kmeans['prediction']==2)\n",
    "fourth = df_kmeans.filter(df_kmeans['prediction']==3)\n",
    "fifth = df_kmeans.filter(df_kmeans['prediction']==4)\n",
    "sixth = df_kmeans.filter(df_kmeans['prediction']==5)"
   ]
  },
  {
   "cell_type": "code",
   "execution_count": 11,
   "metadata": {},
   "outputs": [],
   "source": [
    "max_pos = df_kmeans.select('positive').distinct().select(max('positive')).rdd.map(lambda x:x[0]).collect()[0]\n",
    "max_neg = df_kmeans.select('negative').distinct().select(max('negative')).rdd.map(lambda x:x[0]).collect()[0]\n",
    "max_lon = df_kmeans.select('lonely').distinct().select(max('lonely')).rdd.map(lambda x:x[0]).collect()[0]\n",
    "max_ene = df_kmeans.select('energy').distinct().select(max('energy')).rdd.map(lambda x:x[0]).collect()[0]"
   ]
  },
  {
   "cell_type": "code",
   "execution_count": 12,
   "metadata": {},
   "outputs": [],
   "source": [
    "dfs = [first, second, third, fourth, fifth, sixth]\n",
    "moods = ['positive', 'negative', 'lonely', 'energy']\n",
    "max_moods = [max_pos, max_neg, max_lon, max_ene]\n",
    "\n",
    "def return_moods(dfs, columns, df_idx=None, mood_idx=None, across_groups=True):\n",
    "    if across_groups:\n",
    "        for idx, df in enumerate(dfs):\n",
    "            print(f'Group {idx+1}')\n",
    "            df.select(round(sum(df[moods[mood_idx]])/(df.count()*max_moods[mood_idx])*100,3).alias(f'{moods[mood_idx]} %')).show()\n",
    "    else:\n",
    "        for idx, col in enumerate(columns):\n",
    "            print(f'Group {df_idx+1}')\n",
    "            dfs[df_idx].select(round(sum(dfs[df_idx][col])/(dfs[df_idx].count()*max_moods[idx])*100,3).alias(f'{col} %')).show()"
   ]
  },
  {
   "cell_type": "markdown",
   "metadata": {},
   "source": [
    "### Returning Mood Percentages Across Group"
   ]
  },
  {
   "cell_type": "code",
   "execution_count": 13,
   "metadata": {},
   "outputs": [
    {
     "name": "stdout",
     "output_type": "stream",
     "text": [
      "Group 1\n",
      "+----------+\n",
      "|positive %|\n",
      "+----------+\n",
      "|      75.0|\n",
      "+----------+\n",
      "\n",
      "Group 2\n",
      "+----------+\n",
      "|positive %|\n",
      "+----------+\n",
      "|    85.417|\n",
      "+----------+\n",
      "\n",
      "Group 3\n",
      "+----------+\n",
      "|positive %|\n",
      "+----------+\n",
      "|    83.333|\n",
      "+----------+\n",
      "\n",
      "Group 4\n",
      "+----------+\n",
      "|positive %|\n",
      "+----------+\n",
      "|    66.071|\n",
      "+----------+\n",
      "\n",
      "Group 5\n",
      "+----------+\n",
      "|positive %|\n",
      "+----------+\n",
      "|    89.655|\n",
      "+----------+\n",
      "\n",
      "Group 6\n",
      "+----------+\n",
      "|positive %|\n",
      "+----------+\n",
      "|    78.922|\n",
      "+----------+\n",
      "\n"
     ]
    }
   ],
   "source": [
    "return_moods(dfs, moods, None, 0)"
   ]
  },
  {
   "cell_type": "code",
   "execution_count": 14,
   "metadata": {},
   "outputs": [
    {
     "name": "stdout",
     "output_type": "stream",
     "text": [
      "Group 1\n",
      "+----------+\n",
      "|negative %|\n",
      "+----------+\n",
      "|    31.111|\n",
      "+----------+\n",
      "\n",
      "Group 2\n",
      "+----------+\n",
      "|negative %|\n",
      "+----------+\n",
      "|     26.25|\n",
      "+----------+\n",
      "\n",
      "Group 3\n",
      "+----------+\n",
      "|negative %|\n",
      "+----------+\n",
      "|      26.0|\n",
      "+----------+\n",
      "\n",
      "Group 4\n",
      "+----------+\n",
      "|negative %|\n",
      "+----------+\n",
      "|    33.571|\n",
      "+----------+\n",
      "\n",
      "Group 5\n",
      "+----------+\n",
      "|negative %|\n",
      "+----------+\n",
      "|    20.345|\n",
      "+----------+\n",
      "\n",
      "Group 6\n",
      "+----------+\n",
      "|negative %|\n",
      "+----------+\n",
      "|     25.49|\n",
      "+----------+\n",
      "\n"
     ]
    }
   ],
   "source": [
    "return_moods(dfs, moods, None, 1)"
   ]
  },
  {
   "cell_type": "code",
   "execution_count": 15,
   "metadata": {},
   "outputs": [
    {
     "name": "stdout",
     "output_type": "stream",
     "text": [
      "Group 1\n",
      "+--------+\n",
      "|lonely %|\n",
      "+--------+\n",
      "|  35.556|\n",
      "+--------+\n",
      "\n",
      "Group 2\n",
      "+--------+\n",
      "|lonely %|\n",
      "+--------+\n",
      "|  34.167|\n",
      "+--------+\n",
      "\n",
      "Group 3\n",
      "+--------+\n",
      "|lonely %|\n",
      "+--------+\n",
      "|  29.333|\n",
      "+--------+\n",
      "\n",
      "Group 4\n",
      "+--------+\n",
      "|lonely %|\n",
      "+--------+\n",
      "|    40.0|\n",
      "+--------+\n",
      "\n",
      "Group 5\n",
      "+--------+\n",
      "|lonely %|\n",
      "+--------+\n",
      "|  25.862|\n",
      "+--------+\n",
      "\n",
      "Group 6\n",
      "+--------+\n",
      "|lonely %|\n",
      "+--------+\n",
      "|  31.765|\n",
      "+--------+\n",
      "\n"
     ]
    }
   ],
   "source": [
    "return_moods(dfs, moods, None, 2)"
   ]
  },
  {
   "cell_type": "code",
   "execution_count": 16,
   "metadata": {},
   "outputs": [
    {
     "name": "stdout",
     "output_type": "stream",
     "text": [
      "Group 1\n",
      "+--------+\n",
      "|energy %|\n",
      "+--------+\n",
      "|  36.111|\n",
      "+--------+\n",
      "\n",
      "Group 2\n",
      "+--------+\n",
      "|energy %|\n",
      "+--------+\n",
      "|    37.5|\n",
      "+--------+\n",
      "\n",
      "Group 3\n",
      "+--------+\n",
      "|energy %|\n",
      "+--------+\n",
      "|  33.333|\n",
      "+--------+\n",
      "\n",
      "Group 4\n",
      "+--------+\n",
      "|energy %|\n",
      "+--------+\n",
      "|  14.286|\n",
      "+--------+\n",
      "\n",
      "Group 5\n",
      "+--------+\n",
      "|energy %|\n",
      "+--------+\n",
      "|  22.414|\n",
      "+--------+\n",
      "\n",
      "Group 6\n",
      "+--------+\n",
      "|energy %|\n",
      "+--------+\n",
      "|   25.49|\n",
      "+--------+\n",
      "\n"
     ]
    }
   ],
   "source": [
    "return_moods(dfs, moods, None, 3)"
   ]
  },
  {
   "cell_type": "markdown",
   "metadata": {},
   "source": [
    "### Returning Percentages for Each Group"
   ]
  },
  {
   "cell_type": "code",
   "execution_count": 17,
   "metadata": {},
   "outputs": [
    {
     "name": "stdout",
     "output_type": "stream",
     "text": [
      "Group 1\n",
      "+----------+\n",
      "|positive %|\n",
      "+----------+\n",
      "|      75.0|\n",
      "+----------+\n",
      "\n",
      "Group 1\n",
      "+----------+\n",
      "|negative %|\n",
      "+----------+\n",
      "|    31.111|\n",
      "+----------+\n",
      "\n",
      "Group 1\n",
      "+--------+\n",
      "|lonely %|\n",
      "+--------+\n",
      "|  35.556|\n",
      "+--------+\n",
      "\n",
      "Group 1\n",
      "+--------+\n",
      "|energy %|\n",
      "+--------+\n",
      "|  36.111|\n",
      "+--------+\n",
      "\n"
     ]
    }
   ],
   "source": [
    "return_moods(dfs, moods, 0, None, False)"
   ]
  },
  {
   "cell_type": "code",
   "execution_count": 18,
   "metadata": {},
   "outputs": [
    {
     "name": "stdout",
     "output_type": "stream",
     "text": [
      "Group 2\n",
      "+----------+\n",
      "|positive %|\n",
      "+----------+\n",
      "|    85.417|\n",
      "+----------+\n",
      "\n",
      "Group 2\n",
      "+----------+\n",
      "|negative %|\n",
      "+----------+\n",
      "|     26.25|\n",
      "+----------+\n",
      "\n",
      "Group 2\n",
      "+--------+\n",
      "|lonely %|\n",
      "+--------+\n",
      "|  34.167|\n",
      "+--------+\n",
      "\n",
      "Group 2\n",
      "+--------+\n",
      "|energy %|\n",
      "+--------+\n",
      "|    37.5|\n",
      "+--------+\n",
      "\n"
     ]
    }
   ],
   "source": [
    "return_moods(dfs, moods, 1, None, False)"
   ]
  },
  {
   "cell_type": "code",
   "execution_count": 19,
   "metadata": {},
   "outputs": [
    {
     "name": "stdout",
     "output_type": "stream",
     "text": [
      "Group 3\n",
      "+----------+\n",
      "|positive %|\n",
      "+----------+\n",
      "|    83.333|\n",
      "+----------+\n",
      "\n",
      "Group 3\n",
      "+----------+\n",
      "|negative %|\n",
      "+----------+\n",
      "|      26.0|\n",
      "+----------+\n",
      "\n",
      "Group 3\n",
      "+--------+\n",
      "|lonely %|\n",
      "+--------+\n",
      "|  29.333|\n",
      "+--------+\n",
      "\n",
      "Group 3\n",
      "+--------+\n",
      "|energy %|\n",
      "+--------+\n",
      "|  33.333|\n",
      "+--------+\n",
      "\n"
     ]
    }
   ],
   "source": [
    "return_moods(dfs, moods, 2, None, False)"
   ]
  },
  {
   "cell_type": "code",
   "execution_count": 20,
   "metadata": {},
   "outputs": [
    {
     "name": "stdout",
     "output_type": "stream",
     "text": [
      "Group 4\n",
      "+----------+\n",
      "|positive %|\n",
      "+----------+\n",
      "|    66.071|\n",
      "+----------+\n",
      "\n",
      "Group 4\n",
      "+----------+\n",
      "|negative %|\n",
      "+----------+\n",
      "|    33.571|\n",
      "+----------+\n",
      "\n",
      "Group 4\n",
      "+--------+\n",
      "|lonely %|\n",
      "+--------+\n",
      "|    40.0|\n",
      "+--------+\n",
      "\n",
      "Group 4\n",
      "+--------+\n",
      "|energy %|\n",
      "+--------+\n",
      "|  14.286|\n",
      "+--------+\n",
      "\n"
     ]
    }
   ],
   "source": [
    "return_moods(dfs, moods, 3, None, False)"
   ]
  },
  {
   "cell_type": "code",
   "execution_count": 21,
   "metadata": {},
   "outputs": [
    {
     "name": "stdout",
     "output_type": "stream",
     "text": [
      "Group 5\n",
      "+----------+\n",
      "|positive %|\n",
      "+----------+\n",
      "|    89.655|\n",
      "+----------+\n",
      "\n",
      "Group 5\n",
      "+----------+\n",
      "|negative %|\n",
      "+----------+\n",
      "|    20.345|\n",
      "+----------+\n",
      "\n",
      "Group 5\n",
      "+--------+\n",
      "|lonely %|\n",
      "+--------+\n",
      "|  25.862|\n",
      "+--------+\n",
      "\n",
      "Group 5\n",
      "+--------+\n",
      "|energy %|\n",
      "+--------+\n",
      "|  22.414|\n",
      "+--------+\n",
      "\n"
     ]
    }
   ],
   "source": [
    "# most positive, least negative, least lonely, mediocre energy\n",
    "return_moods(dfs, moods, 4, None, False)"
   ]
  },
  {
   "cell_type": "code",
   "execution_count": 22,
   "metadata": {},
   "outputs": [
    {
     "name": "stdout",
     "output_type": "stream",
     "text": [
      "Group 6\n",
      "+----------+\n",
      "|positive %|\n",
      "+----------+\n",
      "|    78.922|\n",
      "+----------+\n",
      "\n",
      "Group 6\n",
      "+----------+\n",
      "|negative %|\n",
      "+----------+\n",
      "|     25.49|\n",
      "+----------+\n",
      "\n",
      "Group 6\n",
      "+--------+\n",
      "|lonely %|\n",
      "+--------+\n",
      "|  31.765|\n",
      "+--------+\n",
      "\n",
      "Group 6\n",
      "+--------+\n",
      "|energy %|\n",
      "+--------+\n",
      "|   25.49|\n",
      "+--------+\n",
      "\n"
     ]
    }
   ],
   "source": [
    "# least positive, most negative, most lonely, least energy\n",
    "return_moods(dfs, moods, 5, None, False)"
   ]
  },
  {
   "cell_type": "code",
   "execution_count": 88,
   "metadata": {},
   "outputs": [],
   "source": [
    "## Ranking Groups\n",
    "\n",
    "# Ascending order ranks (lowest to highest)\n",
    "def return_mood_ranks(dfs, columns, df_idx=None, mood_idx=None):\n",
    "    mood_dict = {}\n",
    "    for idx, df in enumerate(dfs):\n",
    "        score = df.select(round(sum(df[moods[mood_idx]])/(df.count()*max_moods[mood_idx])*100,3).alias(f'{moods[mood_idx]} %')).toPandas().iloc[0][0]\n",
    "        mood_dict.update({f'Group {idx+1}' : score})\n",
    "    return (sorted(mood_dict, key=lambda x: mood_dict[x]))\n",
    "\n",
    "def print_ranks(ranks):\n",
    "    for i,rank in enumerate(ranks):\n",
    "        print(f'{i+1}. {rank}')\n",
    "\n",
    "def ranks_total():\n",
    "    pos_ranks_des = return_mood_ranks(dfs, moods, df_idx=None, mood_idx=0)\n",
    "    pos_ranks_des.reverse()\n",
    "    neg_ranks_des = return_mood_ranks(dfs, moods, df_idx=None, mood_idx=1)\n",
    "    lon_ranks_des = return_mood_ranks(dfs, moods, df_idx=None, mood_idx=2)\n",
    "    ene_ranks_des = return_mood_ranks(dfs, moods, df_idx=None, mood_idx=3)\n",
    "    ene_ranks_des.reverse()\n",
    "    print('Positive ranks in descending order:')\n",
    "    print_ranks(pos_ranks_des)\n",
    "    print()\n",
    "    print('Negative ranks in ascending order:')\n",
    "    print_ranks(neg_ranks_des)\n",
    "    print()\n",
    "    print('Lonely ranks in ascending order')\n",
    "    print_ranks(lon_ranks_des)\n",
    "    print()\n",
    "    print('Energy ranks in descending order')\n",
    "    print_ranks(ene_ranks_des)\n",
    "\n",
    "ranks_total()"
   ]
  },
  {
   "cell_type": "markdown",
   "metadata": {},
   "source": [
    "Group 4 is always ranked #6, they have the least positive moods, most negative moods, most lonely moods, and least energy."
   ]
  },
  {
   "cell_type": "markdown",
   "metadata": {},
   "source": [
    "## Investigating Race"
   ]
  },
  {
   "cell_type": "code",
   "execution_count": 90,
   "metadata": {},
   "outputs": [
    {
     "data": {
      "text/plain": [
       "[Row(RaceW=1), Row(RaceW=0)]"
      ]
     },
     "execution_count": 90,
     "metadata": {},
     "output_type": "execute_result"
    }
   ],
   "source": [
    "df_kmeans.select('RaceW').distinct().collect()"
   ]
  },
  {
   "cell_type": "markdown",
   "metadata": {},
   "source": [
    "- RaceW - White or Caucasian\n",
    "- RaceAA - Black or African American\n",
    "- RaceAI - American Indian or Alaska Native\n",
    "- RaceA - Asian"
   ]
  },
  {
   "cell_type": "code",
   "execution_count": 95,
   "metadata": {},
   "outputs": [
    {
     "data": {
      "text/plain": [
       "206"
      ]
     },
     "execution_count": 95,
     "metadata": {},
     "output_type": "execute_result"
    }
   ],
   "source": [
    "df_kmeans.filter(df_kmeans['RaceW'] == 1).count()"
   ]
  },
  {
   "cell_type": "code",
   "execution_count": 93,
   "metadata": {},
   "outputs": [
    {
     "data": {
      "text/plain": [
       "213"
      ]
     },
     "execution_count": 93,
     "metadata": {},
     "output_type": "execute_result"
    }
   ],
   "source": [
    "df_kmeans.count()"
   ]
  },
  {
   "cell_type": "markdown",
   "metadata": {},
   "source": [
    "Not enough representation."
   ]
  },
  {
   "cell_type": "markdown",
   "metadata": {},
   "source": [
    "## Education"
   ]
  },
  {
   "cell_type": "code",
   "execution_count": 142,
   "metadata": {},
   "outputs": [],
   "source": [
    "group_4_education = df_kmeans.filter(df_kmeans['prediction'] == 3).groupBy('Education').count().orderBy('Education', ascending=False).toPandas()\n",
    "\n",
    "group_4_education['Education'] = ['Master\\'s', 'Bachelor\\'s', 'Some college (no degree)', 'High school diploma']\n",
    "\n",
    "group_4_education\n",
    "\n",
    "group_5_education = df_kmeans.filter(df_kmeans['prediction'] == 4).groupBy('Education').count().orderBy('Education', ascending=False).toPandas()\n",
    "\n",
    "group_5_education['Education'] = ['Doctorate', 'Professional (e.g. MD)', 'Master\\'s', 'Bachelor\\'s', 'Associate\\'s', 'Some college (no degree)', 'High school diploma']\n",
    "\n",
    "group_5_education"
   ]
  },
  {
   "cell_type": "code",
   "execution_count": null,
   "metadata": {},
   "outputs": [],
   "source": []
  },
  {
   "cell_type": "code",
   "execution_count": null,
   "metadata": {},
   "outputs": [],
   "source": []
  },
  {
   "cell_type": "code",
   "execution_count": null,
   "metadata": {},
   "outputs": [],
   "source": []
  },
  {
   "cell_type": "code",
   "execution_count": 120,
   "metadata": {},
   "outputs": [
    {
     "data": {
      "text/plain": [
       "['COVPDDiag',\n",
       " 'COVSympInfect',\n",
       " 'COVProDiag',\n",
       " 'COVTest',\n",
       " 'COVFever',\n",
       " 'COVCough',\n",
       " 'COVSympChill',\n",
       " 'COVSympSweat',\n",
       " 'COVSympShortBreath',\n",
       " 'COVSympChestTight',\n",
       " 'COVSympChestPain',\n",
       " 'COVSympTired',\n",
       " 'COVSympSleepy',\n",
       " 'COVSympSoreThroat',\n",
       " 'COVSympCongest',\n",
       " 'COVSympMuscleAche',\n",
       " 'COVSympJointPain',\n",
       " 'COVSympLoseSmell',\n",
       " 'COVSympLoseTase',\n",
       " 'COVSympLoseApetite',\n",
       " 'COVSympDiarrhea',\n",
       " 'COVSympStomachPain',\n",
       " 'COVSympNausea',\n",
       " 'COVSympVomit',\n",
       " 'COVSympLightHead',\n",
       " 'COVSelfIsolate',\n",
       " 'COVLivingSituation',\n",
       " 'COVRegion',\n",
       " 'COVSocialDistancing',\n",
       " 'COVAlterPhysTher',\n",
       " 'COVAlterSpeechTher',\n",
       " 'COVAlterOccTher',\n",
       " 'COVAlterMenHealth',\n",
       " 'COVAlterSpprtGrp',\n",
       " 'COVAlterExercise',\n",
       " 'COVAlterSeeFamily',\n",
       " 'COVAlterSeeFriend',\n",
       " 'COVAlterCommunAct',\n",
       " 'COVAlterReligAct',\n",
       " 'COVAlterVolntrAct',\n",
       " 'COVAlterClinVisit',\n",
       " 'COVAlterOthMedApt',\n",
       " 'COVSocDisWork',\n",
       " 'COVSocDisHouseFinance',\n",
       " 'COVRschAttdtChange',\n",
       " 'COVRschPartcpLikely',\n",
       " 'fox_insight_id',\n",
       " 'age',\n",
       " 'Sex',\n",
       " 'RaceW',\n",
       " 'RaceAA',\n",
       " 'RaceAI',\n",
       " 'RaceA',\n",
       " 'EthnNotHispanic',\n",
       " 'EthnMexican',\n",
       " 'EthnPuerto',\n",
       " 'EthnLatino',\n",
       " 'Education',\n",
       " 'Income',\n",
       " 'Employment',\n",
       " 'Veteran',\n",
       " 'Research',\n",
       " 'days_elapsed',\n",
       " 'max_days',\n",
       " 'positive',\n",
       " 'negative',\n",
       " 'energy',\n",
       " 'lonely',\n",
       " 'features',\n",
       " 'pca',\n",
       " 'prediction']"
      ]
     },
     "execution_count": 120,
     "metadata": {},
     "output_type": "execute_result"
    }
   ],
   "source": [
    "df_kmeans.columns"
   ]
  },
  {
   "cell_type": "code",
   "execution_count": 145,
   "metadata": {},
   "outputs": [
    {
     "name": "stdout",
     "output_type": "stream",
     "text": [
      "+----------------+\n",
      "|COVAlterExercise|\n",
      "+----------------+\n",
      "|               1|\n",
      "|               3|\n",
      "|               4|\n",
      "|               2|\n",
      "+----------------+\n",
      "\n"
     ]
    }
   ],
   "source": [
    "df_kmeans.select('COVAlterExercise').distinct().show()"
   ]
  },
  {
   "cell_type": "code",
   "execution_count": 146,
   "metadata": {},
   "outputs": [
    {
     "name": "stdout",
     "output_type": "stream",
     "text": [
      "+----------------+-----+\n",
      "|COVAlterExercise|count|\n",
      "+----------------+-----+\n",
      "|               1|   42|\n",
      "|               3|   66|\n",
      "|               4|   84|\n",
      "|               2|   21|\n",
      "+----------------+-----+\n",
      "\n"
     ]
    }
   ],
   "source": [
    "df_kmeans.groupBy('COVAlterExercise').count().show()"
   ]
  },
  {
   "cell_type": "code",
   "execution_count": 152,
   "metadata": {},
   "outputs": [
    {
     "name": "stdout",
     "output_type": "stream",
     "text": [
      "+----------------+-----+\n",
      "|COVAlterExercise|count|\n",
      "+----------------+-----+\n",
      "|               1|   11|\n",
      "|               3|   20|\n",
      "|               4|   21|\n",
      "|               2|    6|\n",
      "+----------------+-----+\n",
      "\n"
     ]
    }
   ],
   "source": [
    "df_kmeans.filter(df_kmeans['prediction'] == 4).groupBy('COVAlterExercise').count().show()"
   ]
  },
  {
   "cell_type": "code",
   "execution_count": null,
   "metadata": {},
   "outputs": [],
   "source": []
  },
  {
   "cell_type": "code",
   "execution_count": null,
   "metadata": {},
   "outputs": [],
   "source": []
  },
  {
   "cell_type": "code",
   "execution_count": null,
   "metadata": {},
   "outputs": [],
   "source": []
  },
  {
   "cell_type": "code",
   "execution_count": 25,
   "metadata": {},
   "outputs": [],
   "source": [
    "# sc.stop()\n",
    "# ss.stop()"
   ]
  },
  {
   "cell_type": "code",
   "execution_count": null,
   "metadata": {},
   "outputs": [],
   "source": []
  }
 ],
 "metadata": {
  "kernelspec": {
   "display_name": "Python 3",
   "language": "python",
   "name": "python3"
  },
  "language_info": {
   "codemirror_mode": {
    "name": "ipython",
    "version": 3
   },
   "file_extension": ".py",
   "mimetype": "text/x-python",
   "name": "python",
   "nbconvert_exporter": "python",
   "pygments_lexer": "ipython3",
   "version": "3.8.5"
  }
 },
 "nbformat": 4,
 "nbformat_minor": 5
}
