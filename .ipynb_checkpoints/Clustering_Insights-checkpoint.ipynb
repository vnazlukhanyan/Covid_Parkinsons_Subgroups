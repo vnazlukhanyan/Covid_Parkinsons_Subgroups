{
 "cells": [
  {
   "cell_type": "code",
   "execution_count": null,
   "metadata": {},
   "outputs": [],
   "source": [
    "from pyspark.sql import SparkSession\n",
    "from pyspark.sql import Window\n",
    "from pyspark.sql import types \n",
    "from pyspark.sql.functions import *\n",
    "from pyspark.ml.feature import PCA\n",
    "from pyspark.ml.linalg import Vectors  # Pre 2.0 pyspark.mllib.linalg\n",
    "from pyspark.ml.feature import VectorAssembler\n",
    "from pyspark.ml.clustering import KMeans\n",
    "# Clustering Evaluator\n",
    "from pyspark.ml.evaluation import ClusteringEvaluator\n",
    "import numpy as np\n",
    "\n",
    "ss = SparkSession.builder.config('spark.driver.extraClassPath',\n",
    "                                 'postgresql-42.2.18.jar') \\\n",
    "                        .config('spark.driver.memory',\n",
    "                                 '8g') \\\n",
    "                        .config('spark.executor.memory',\n",
    "                                 '8g') \\\n",
    "                         .getOrCreate()\n",
    "sc = ss.sparkContext"
   ]
  },
  {
   "cell_type": "code",
   "execution_count": 2,
   "metadata": {},
   "outputs": [
    {
     "data": {
      "application/vnd.jupyter.widget-view+json": {
       "model_id": "d202b47eedd044fe9634cabfab46077d",
       "version_major": 2,
       "version_minor": 0
      },
      "text/plain": [
       "VBox()"
      ]
     },
     "metadata": {},
     "output_type": "display_data"
    },
    {
     "data": {
      "application/vnd.jupyter.widget-view+json": {
       "model_id": "4cd3a2690c454d5ea25c0ccd21b8b413",
       "version_major": 2,
       "version_minor": 0
      },
      "text/plain": [
       "FloatProgress(value=0.0, bar_style='info', description='Progress:', layout=Layout(height='25px', width='50%'),…"
      ]
     },
     "metadata": {},
     "output_type": "display_data"
    }
   ],
   "source": [
    "df = ss.read.parquet(\"s3://msds694-parkinsons/df_kmeans/*\")"
   ]
  },
  {
   "cell_type": "code",
   "execution_count": 8,
   "metadata": {},
   "outputs": [
    {
     "data": {
      "application/vnd.jupyter.widget-view+json": {
       "model_id": "dba9a717ef5043928c8f785c82677e91",
       "version_major": 2,
       "version_minor": 0
      },
      "text/plain": [
       "VBox()"
      ]
     },
     "metadata": {},
     "output_type": "display_data"
    },
    {
     "data": {
      "application/vnd.jupyter.widget-view+json": {
       "model_id": "9eddc00414bf4846a77ec28507d669fc",
       "version_major": 2,
       "version_minor": 0
      },
      "text/plain": [
       "FloatProgress(value=0.0, bar_style='info', description='Progress:', layout=Layout(height='25px', width='50%'),…"
      ]
     },
     "metadata": {},
     "output_type": "display_data"
    }
   ],
   "source": [
    "data = df.drop('prediction')"
   ]
  },
  {
   "cell_type": "code",
   "execution_count": 47,
   "metadata": {},
   "outputs": [
    {
     "data": {
      "application/vnd.jupyter.widget-view+json": {
       "model_id": "5e17eeb54502461a9fefb9f136303826",
       "version_major": 2,
       "version_minor": 0
      },
      "text/plain": [
       "VBox()"
      ]
     },
     "metadata": {},
     "output_type": "display_data"
    },
    {
     "data": {
      "application/vnd.jupyter.widget-view+json": {
       "model_id": "ac13d8aed0b04c499fb6100e983cb731",
       "version_major": 2,
       "version_minor": 0
      },
      "text/plain": [
       "FloatProgress(value=0.0, bar_style='info', description='Progress:', layout=Layout(height='25px', width='50%'),…"
      ]
     },
     "metadata": {},
     "output_type": "display_data"
    }
   ],
   "source": [
    "import numpy as np"
   ]
  },
  {
   "cell_type": "code",
   "execution_count": 9,
   "metadata": {},
   "outputs": [],
   "source": [
    "# #df.write.csv('mycsv.csv')\n",
    "# df_pca.write.parquet('/Users/christabelle/classes/Spring/DistrComp_694/FoxInsight (1)/df_pca')"
   ]
  },
  {
   "cell_type": "markdown",
   "metadata": {},
   "source": [
    "# K Means Clustering Insights\n",
    "## Christabelle, Daniel and Victor"
   ]
  },
  {
   "cell_type": "markdown",
   "metadata": {},
   "source": [
    "### Goals:"
   ]
  },
  {
   "cell_type": "markdown",
   "metadata": {},
   "source": [
    "1. **KMeans Clustering** \n",
    "    - 4(Christabelle, Daniel, Victor)\n",
    "2. **Exploratory Analysis**"
   ]
  },
  {
   "cell_type": "code",
   "execution_count": 7,
   "metadata": {},
   "outputs": [],
   "source": [
    "data = ss.read.parquet('/Users/christabelle/classes/Spring/DistrComp_694/FoxInsight (1)/df_pca/*')"
   ]
  },
  {
   "cell_type": "code",
   "execution_count": 9,
   "metadata": {},
   "outputs": [
    {
     "data": {
      "application/vnd.jupyter.widget-view+json": {
       "model_id": "1988199e8fe8479499d0fe3f559d134b",
       "version_major": 2,
       "version_minor": 0
      },
      "text/plain": [
       "VBox()"
      ]
     },
     "metadata": {},
     "output_type": "display_data"
    },
    {
     "data": {
      "application/vnd.jupyter.widget-view+json": {
       "model_id": "84f4c69b0d5d4a5aaeb52de440608199",
       "version_major": 2,
       "version_minor": 0
      },
      "text/plain": [
       "FloatProgress(value=0.0, bar_style='info', description='Progress:', layout=Layout(height='25px', width='50%'),…"
      ]
     },
     "metadata": {},
     "output_type": "display_data"
    }
   ],
   "source": [
    "kmeans =  KMeans(k = 4, maxIter = 200, tol = 0.01, seed=11, featuresCol='pca') \n",
    "model = kmeans.fit(data)\n",
    "df_kmeans = model.transform(data)"
   ]
  },
  {
   "cell_type": "code",
   "execution_count": 10,
   "metadata": {},
   "outputs": [
    {
     "data": {
      "application/vnd.jupyter.widget-view+json": {
       "model_id": "57153a97778741f589560cc03cdd877a",
       "version_major": 2,
       "version_minor": 0
      },
      "text/plain": [
       "VBox()"
      ]
     },
     "metadata": {},
     "output_type": "display_data"
    },
    {
     "data": {
      "application/vnd.jupyter.widget-view+json": {
       "model_id": "0159e339d9e14ffd9e66ce4e47a8ac4f",
       "version_major": 2,
       "version_minor": 0
      },
      "text/plain": [
       "FloatProgress(value=0.0, bar_style='info', description='Progress:', layout=Layout(height='25px', width='50%'),…"
      ]
     },
     "metadata": {},
     "output_type": "display_data"
    },
    {
     "name": "stdout",
     "output_type": "stream",
     "text": [
      "+----------+\n",
      "|prediction|\n",
      "+----------+\n",
      "|         1|\n",
      "|         3|\n",
      "|         5|\n",
      "|         4|\n",
      "|         2|\n",
      "|         0|\n",
      "+----------+"
     ]
    }
   ],
   "source": [
    "df_kmeans.select('prediction').distinct().show()"
   ]
  },
  {
   "cell_type": "code",
   "execution_count": 11,
   "metadata": {},
   "outputs": [
    {
     "data": {
      "application/vnd.jupyter.widget-view+json": {
       "model_id": "336d66bad9e34d7582151aec6c8c977e",
       "version_major": 2,
       "version_minor": 0
      },
      "text/plain": [
       "VBox()"
      ]
     },
     "metadata": {},
     "output_type": "display_data"
    },
    {
     "data": {
      "application/vnd.jupyter.widget-view+json": {
       "model_id": "e825a529114c43738d4d964cdc1f0a0d",
       "version_major": 2,
       "version_minor": 0
      },
      "text/plain": [
       "FloatProgress(value=0.0, bar_style='info', description='Progress:', layout=Layout(height='25px', width='50%'),…"
      ]
     },
     "metadata": {},
     "output_type": "display_data"
    },
    {
     "name": "stdout",
     "output_type": "stream",
     "text": [
      "Cluster Centers: \n",
      "[ 2.41841156e+04  8.13479593e-01 -1.11799012e+01 -4.07345454e+00\n",
      "  5.62150128e+00 -1.19350663e+01 -3.35388423e+00  2.98856784e+00\n",
      " -3.00671258e+00  7.42716609e-01 -2.70878370e+00 -2.14625984e-01\n",
      "  4.07236654e-01  3.55162065e+00  5.27999631e+00]\n",
      "(15,)\n",
      "[ 4.07254176e+04  1.17105735e+00 -1.14340086e+01 -3.46792986e+00\n",
      "  6.34456874e+00 -1.14061546e+01 -3.46082635e+00  1.96920517e+00\n",
      " -3.51747620e+00  6.61113304e-01 -3.07844759e+00 -5.14982503e-01\n",
      "  4.26744103e-01  3.41357928e+00  5.27916576e+00]\n",
      "(15,)\n",
      "[ 1.52620164e+04  1.39059943e+00 -9.83911714e+00 -3.26270953e+00\n",
      "  6.95304116e+00 -1.05187140e+01 -3.85508793e+00  2.12294335e+00\n",
      " -3.69787163e+00  1.10402750e+00 -2.79939714e+00 -7.77671211e-01\n",
      "  6.34860451e-01  3.36280528e+00  5.10702869e+00]\n",
      "(15,)\n",
      "[ 3.64567848e+04  5.13636362e-01 -1.02365855e+01 -3.83184863e+00\n",
      "  6.17044476e+00 -1.13757883e+01 -3.66848058e+00  2.61196605e+00\n",
      " -3.39522168e+00  1.23797353e+00 -2.41920407e+00 -4.20359367e-01\n",
      "  4.89373362e-01  3.61833614e+00  5.00683216e+00]\n",
      "(15,)\n",
      "[ 2.90126428e+04  5.02173456e-01 -1.15281831e+01 -4.26883902e+00\n",
      "  5.94289619e+00 -1.17486841e+01 -3.41079925e+00  2.19722321e+00\n",
      " -3.63461133e+00  7.12588241e-01 -2.29695647e+00 -6.63014403e-01\n",
      "  2.18599096e-01  3.66333870e+00  5.18807352e+00]\n",
      "(15,)\n",
      "[ 3.27510265e+04  8.74813579e-01 -1.10123032e+01 -4.46187514e+00\n",
      "  5.72104667e+00 -1.14754235e+01 -3.79477716e+00  2.86561941e+00\n",
      " -3.11019571e+00  6.74876485e-01 -2.92035420e+00 -6.11293404e-01\n",
      "  8.35193840e-01  3.53133314e+00  5.16725117e+00]\n",
      "(15,)"
     ]
    }
   ],
   "source": [
    "# Center of each cluster\n",
    "centers = model.clusterCenters()\n",
    "print(\"Cluster Centers: \")\n",
    "for center in centers:\n",
    "    print(center)\n",
    "    print(center.shape)"
   ]
  },
  {
   "cell_type": "code",
   "execution_count": 12,
   "metadata": {},
   "outputs": [
    {
     "data": {
      "application/vnd.jupyter.widget-view+json": {
       "model_id": "2c919f8d49c14955b94dc31035159977",
       "version_major": 2,
       "version_minor": 0
      },
      "text/plain": [
       "VBox()"
      ]
     },
     "metadata": {},
     "output_type": "display_data"
    },
    {
     "data": {
      "application/vnd.jupyter.widget-view+json": {
       "model_id": "5c64909ea75141309b2695d513c03c6b",
       "version_major": 2,
       "version_minor": 0
      },
      "text/plain": [
       "FloatProgress(value=0.0, bar_style='info', description='Progress:', layout=Layout(height='25px', width='50%'),…"
      ]
     },
     "metadata": {},
     "output_type": "display_data"
    },
    {
     "name": "stdout",
     "output_type": "stream",
     "text": [
      "Silhouette with squared euclidean distance = 0.7350327254965592"
     ]
    }
   ],
   "source": [
    "evaluator = ClusteringEvaluator(featuresCol='pca')\n",
    "silhouette = evaluator.evaluate(df_kmeans)\n",
    "print(\"Silhouette with squared euclidean distance = \" + str(silhouette))"
   ]
  },
  {
   "cell_type": "code",
   "execution_count": 9,
   "metadata": {},
   "outputs": [
    {
     "data": {
      "application/vnd.jupyter.widget-view+json": {
       "model_id": "1988199e8fe8479499d0fe3f559d134b",
       "version_major": 2,
       "version_minor": 0
      },
      "text/plain": [
       "VBox()"
      ]
     },
     "metadata": {},
     "output_type": "display_data"
    },
    {
     "data": {
      "application/vnd.jupyter.widget-view+json": {
       "model_id": "84f4c69b0d5d4a5aaeb52de440608199",
       "version_major": 2,
       "version_minor": 0
      },
      "text/plain": [
       "FloatProgress(value=0.0, bar_style='info', description='Progress:', layout=Layout(height='25px', width='50%'),…"
      ]
     },
     "metadata": {},
     "output_type": "display_data"
    }
   ],
   "source": [
    "kmeans =  KMeans(k = 5, maxIter = 200, tol = 0.01, seed=11, featuresCol='pca') \n",
    "model = kmeans.fit(data)\n",
    "df_kmeans = model.transform(data)"
   ]
  },
  {
   "cell_type": "code",
   "execution_count": 10,
   "metadata": {},
   "outputs": [
    {
     "data": {
      "application/vnd.jupyter.widget-view+json": {
       "model_id": "57153a97778741f589560cc03cdd877a",
       "version_major": 2,
       "version_minor": 0
      },
      "text/plain": [
       "VBox()"
      ]
     },
     "metadata": {},
     "output_type": "display_data"
    },
    {
     "data": {
      "application/vnd.jupyter.widget-view+json": {
       "model_id": "0159e339d9e14ffd9e66ce4e47a8ac4f",
       "version_major": 2,
       "version_minor": 0
      },
      "text/plain": [
       "FloatProgress(value=0.0, bar_style='info', description='Progress:', layout=Layout(height='25px', width='50%'),…"
      ]
     },
     "metadata": {},
     "output_type": "display_data"
    },
    {
     "name": "stdout",
     "output_type": "stream",
     "text": [
      "+----------+\n",
      "|prediction|\n",
      "+----------+\n",
      "|         1|\n",
      "|         3|\n",
      "|         5|\n",
      "|         4|\n",
      "|         2|\n",
      "|         0|\n",
      "+----------+"
     ]
    }
   ],
   "source": [
    "df_kmeans.select('prediction').distinct().show()"
   ]
  },
  {
   "cell_type": "code",
   "execution_count": 12,
   "metadata": {},
   "outputs": [
    {
     "data": {
      "application/vnd.jupyter.widget-view+json": {
       "model_id": "2c919f8d49c14955b94dc31035159977",
       "version_major": 2,
       "version_minor": 0
      },
      "text/plain": [
       "VBox()"
      ]
     },
     "metadata": {},
     "output_type": "display_data"
    },
    {
     "data": {
      "application/vnd.jupyter.widget-view+json": {
       "model_id": "5c64909ea75141309b2695d513c03c6b",
       "version_major": 2,
       "version_minor": 0
      },
      "text/plain": [
       "FloatProgress(value=0.0, bar_style='info', description='Progress:', layout=Layout(height='25px', width='50%'),…"
      ]
     },
     "metadata": {},
     "output_type": "display_data"
    },
    {
     "name": "stdout",
     "output_type": "stream",
     "text": [
      "Silhouette with squared euclidean distance = 0.7350327254965592"
     ]
    }
   ],
   "source": [
    "evaluator = ClusteringEvaluator(featuresCol='pca')\n",
    "silhouette = evaluator.evaluate(df_kmeans)\n",
    "print(\"Silhouette with squared euclidean distance = \" + str(silhouette))"
   ]
  },
  {
   "cell_type": "code",
   "execution_count": 9,
   "metadata": {},
   "outputs": [
    {
     "data": {
      "application/vnd.jupyter.widget-view+json": {
       "model_id": "1988199e8fe8479499d0fe3f559d134b",
       "version_major": 2,
       "version_minor": 0
      },
      "text/plain": [
       "VBox()"
      ]
     },
     "metadata": {},
     "output_type": "display_data"
    },
    {
     "data": {
      "application/vnd.jupyter.widget-view+json": {
       "model_id": "84f4c69b0d5d4a5aaeb52de440608199",
       "version_major": 2,
       "version_minor": 0
      },
      "text/plain": [
       "FloatProgress(value=0.0, bar_style='info', description='Progress:', layout=Layout(height='25px', width='50%'),…"
      ]
     },
     "metadata": {},
     "output_type": "display_data"
    }
   ],
   "source": [
    "kmeans =  KMeans(k = 6, maxIter = 200, tol = 0.01, seed=11, featuresCol='pca') \n",
    "model = kmeans.fit(data)\n",
    "df_kmeans = model.transform(data)"
   ]
  },
  {
   "cell_type": "code",
   "execution_count": 10,
   "metadata": {},
   "outputs": [
    {
     "data": {
      "application/vnd.jupyter.widget-view+json": {
       "model_id": "57153a97778741f589560cc03cdd877a",
       "version_major": 2,
       "version_minor": 0
      },
      "text/plain": [
       "VBox()"
      ]
     },
     "metadata": {},
     "output_type": "display_data"
    },
    {
     "data": {
      "application/vnd.jupyter.widget-view+json": {
       "model_id": "0159e339d9e14ffd9e66ce4e47a8ac4f",
       "version_major": 2,
       "version_minor": 0
      },
      "text/plain": [
       "FloatProgress(value=0.0, bar_style='info', description='Progress:', layout=Layout(height='25px', width='50%'),…"
      ]
     },
     "metadata": {},
     "output_type": "display_data"
    },
    {
     "name": "stdout",
     "output_type": "stream",
     "text": [
      "+----------+\n",
      "|prediction|\n",
      "+----------+\n",
      "|         1|\n",
      "|         3|\n",
      "|         5|\n",
      "|         4|\n",
      "|         2|\n",
      "|         0|\n",
      "+----------+"
     ]
    }
   ],
   "source": [
    "df_kmeans.select('prediction').distinct().show()"
   ]
  },
  {
   "cell_type": "code",
   "execution_count": 12,
   "metadata": {},
   "outputs": [
    {
     "data": {
      "application/vnd.jupyter.widget-view+json": {
       "model_id": "2c919f8d49c14955b94dc31035159977",
       "version_major": 2,
       "version_minor": 0
      },
      "text/plain": [
       "VBox()"
      ]
     },
     "metadata": {},
     "output_type": "display_data"
    },
    {
     "data": {
      "application/vnd.jupyter.widget-view+json": {
       "model_id": "5c64909ea75141309b2695d513c03c6b",
       "version_major": 2,
       "version_minor": 0
      },
      "text/plain": [
       "FloatProgress(value=0.0, bar_style='info', description='Progress:', layout=Layout(height='25px', width='50%'),…"
      ]
     },
     "metadata": {},
     "output_type": "display_data"
    },
    {
     "name": "stdout",
     "output_type": "stream",
     "text": [
      "Silhouette with squared euclidean distance = 0.7350327254965592"
     ]
    }
   ],
   "source": [
    "evaluator = ClusteringEvaluator(featuresCol='pca')\n",
    "silhouette = evaluator.evaluate(df_kmeans)\n",
    "print(\"Silhouette with squared euclidean distance = \" + str(silhouette))"
   ]
  },
  {
   "cell_type": "markdown",
   "metadata": {},
   "source": [
    "\"The silhouette value is a measure of how similar an object is to its own cluster (cohesion) compared to other clusters (separation). The silhouette ranges from −1 to +1, where a high value indicates that the object is well matched to its own cluster and poorly matched to neighboring clusters. If most objects have a high value, then the clustering configuration is appropriate. If many points have a low or negative value, then the clustering configuration may have too many or too few clusters.\""
   ]
  },
  {
   "cell_type": "code",
   "execution_count": 13,
   "metadata": {},
   "outputs": [
    {
     "data": {
      "application/vnd.jupyter.widget-view+json": {
       "model_id": "2d4b11f20ca74b02b10096534dd47245",
       "version_major": 2,
       "version_minor": 0
      },
      "text/plain": [
       "VBox()"
      ]
     },
     "metadata": {},
     "output_type": "display_data"
    },
    {
     "data": {
      "application/vnd.jupyter.widget-view+json": {
       "model_id": "ecda596fa5f44ae7a68c45665e8e8141",
       "version_major": 2,
       "version_minor": 0
      },
      "text/plain": [
       "FloatProgress(value=0.0, bar_style='info', description='Progress:', layout=Layout(height='25px', width='50%'),…"
      ]
     },
     "metadata": {},
     "output_type": "display_data"
    }
   ],
   "source": [
    "first = df_kmeans.filter(df_kmeans['prediction']==0)\n",
    "second = df_kmeans.filter(df_kmeans['prediction']==1)\n",
    "third = df_kmeans.filter(df_kmeans['prediction']==2)\n",
    "fourth = df_kmeans.filter(df_kmeans['prediction']==3)\n",
    "fifth = df_kmeans.filter(df_kmeans['prediction']==4)\n",
    "sixth = df_kmeans.filter(df_kmeans['prediction']==5)"
   ]
  },
  {
   "cell_type": "code",
   "execution_count": 14,
   "metadata": {},
   "outputs": [
    {
     "data": {
      "application/vnd.jupyter.widget-view+json": {
       "model_id": "9e0863fa292a436fb55eff5ac737745b",
       "version_major": 2,
       "version_minor": 0
      },
      "text/plain": [
       "VBox()"
      ]
     },
     "metadata": {},
     "output_type": "display_data"
    },
    {
     "data": {
      "application/vnd.jupyter.widget-view+json": {
       "model_id": "763bbc008e4f4b44838d53bc4c1936e2",
       "version_major": 2,
       "version_minor": 0
      },
      "text/plain": [
       "FloatProgress(value=0.0, bar_style='info', description='Progress:', layout=Layout(height='25px', width='50%'),…"
      ]
     },
     "metadata": {},
     "output_type": "display_data"
    }
   ],
   "source": [
    "max_pos = df_kmeans.select('positive').distinct().select(max('positive')).rdd.map(lambda x:x[0]).collect()[0]\n",
    "max_neg = df_kmeans.select('negative').distinct().select(max('negative')).rdd.map(lambda x:x[0]).collect()[0]\n",
    "max_lon = df_kmeans.select('lonely').distinct().select(max('lonely')).rdd.map(lambda x:x[0]).collect()[0]\n",
    "max_ene = df_kmeans.select('energy').distinct().select(max('energy')).rdd.map(lambda x:x[0]).collect()[0]"
   ]
  },
  {
   "cell_type": "code",
   "execution_count": 15,
   "metadata": {},
   "outputs": [
    {
     "data": {
      "application/vnd.jupyter.widget-view+json": {
       "model_id": "08e439132d0b4464904d13c8c571d6a9",
       "version_major": 2,
       "version_minor": 0
      },
      "text/plain": [
       "VBox()"
      ]
     },
     "metadata": {},
     "output_type": "display_data"
    },
    {
     "data": {
      "application/vnd.jupyter.widget-view+json": {
       "model_id": "91ffdd760075494a80185d403ba61104",
       "version_major": 2,
       "version_minor": 0
      },
      "text/plain": [
       "FloatProgress(value=0.0, bar_style='info', description='Progress:', layout=Layout(height='25px', width='50%'),…"
      ]
     },
     "metadata": {},
     "output_type": "display_data"
    }
   ],
   "source": [
    "dfs = [first, second, third, fourth, fifth, sixth]\n",
    "moods = ['positive', 'negative', 'lonely', 'energy']\n",
    "max_moods = [max_pos, max_neg, max_lon, max_ene]\n",
    "\n",
    "def return_moods(dfs, columns, df_idx=None, mood_idx=None, across_groups=True):\n",
    "    if across_groups:\n",
    "        for idx, df in enumerate(dfs):\n",
    "            print(f'Group {idx+1}')\n",
    "            df.select(round(sum(df[moods[mood_idx]])/(df.count()*max_moods[mood_idx])*100,3).alias(f'{moods[mood_idx]} %')).show()\n",
    "    else:\n",
    "        for idx, col in enumerate(columns):\n",
    "            print(f'Group {df_idx+1}')\n",
    "            dfs[df_idx].select(round(sum(dfs[df_idx][col])/(dfs[df_idx].count()*max_moods[idx])*100,3).alias(f'{col} %')).show()"
   ]
  },
  {
   "cell_type": "markdown",
   "metadata": {},
   "source": [
    "### Returning Mood Percentages Across Group (Christabelle, Daniel, Victor)"
   ]
  },
  {
   "cell_type": "code",
   "execution_count": 16,
   "metadata": {},
   "outputs": [
    {
     "data": {
      "application/vnd.jupyter.widget-view+json": {
       "model_id": "16a451af84694042a9bfdaf9edb827d0",
       "version_major": 2,
       "version_minor": 0
      },
      "text/plain": [
       "VBox()"
      ]
     },
     "metadata": {},
     "output_type": "display_data"
    },
    {
     "data": {
      "application/vnd.jupyter.widget-view+json": {
       "model_id": "d320ab42b206437fb9b9e0690c5b254f",
       "version_major": 2,
       "version_minor": 0
      },
      "text/plain": [
       "FloatProgress(value=0.0, bar_style='info', description='Progress:', layout=Layout(height='25px', width='50%'),…"
      ]
     },
     "metadata": {},
     "output_type": "display_data"
    },
    {
     "name": "stdout",
     "output_type": "stream",
     "text": [
      "Group 1\n",
      "+----------+\n",
      "|positive %|\n",
      "+----------+\n",
      "|      75.0|\n",
      "+----------+\n",
      "\n",
      "Group 2\n",
      "+----------+\n",
      "|positive %|\n",
      "+----------+\n",
      "|    85.417|\n",
      "+----------+\n",
      "\n",
      "Group 3\n",
      "+----------+\n",
      "|positive %|\n",
      "+----------+\n",
      "|    66.071|\n",
      "+----------+\n",
      "\n",
      "Group 4\n",
      "+----------+\n",
      "|positive %|\n",
      "+----------+\n",
      "|    89.655|\n",
      "+----------+\n",
      "\n",
      "Group 5\n",
      "+----------+\n",
      "|positive %|\n",
      "+----------+\n",
      "|    83.333|\n",
      "+----------+\n",
      "\n",
      "Group 6\n",
      "+----------+\n",
      "|positive %|\n",
      "+----------+\n",
      "|    78.922|\n",
      "+----------+"
     ]
    }
   ],
   "source": [
    "return_moods(dfs, moods, None, 0)"
   ]
  },
  {
   "cell_type": "code",
   "execution_count": 17,
   "metadata": {},
   "outputs": [
    {
     "data": {
      "application/vnd.jupyter.widget-view+json": {
       "model_id": "fde4da57f73e49d987cdd2f0503838cb",
       "version_major": 2,
       "version_minor": 0
      },
      "text/plain": [
       "VBox()"
      ]
     },
     "metadata": {},
     "output_type": "display_data"
    },
    {
     "data": {
      "application/vnd.jupyter.widget-view+json": {
       "model_id": "f693de55ff2d4153b8bf5c6ebcb9373a",
       "version_major": 2,
       "version_minor": 0
      },
      "text/plain": [
       "FloatProgress(value=0.0, bar_style='info', description='Progress:', layout=Layout(height='25px', width='50%'),…"
      ]
     },
     "metadata": {},
     "output_type": "display_data"
    },
    {
     "name": "stdout",
     "output_type": "stream",
     "text": [
      "Group 1\n",
      "+----------+\n",
      "|negative %|\n",
      "+----------+\n",
      "|    31.111|\n",
      "+----------+\n",
      "\n",
      "Group 2\n",
      "+----------+\n",
      "|negative %|\n",
      "+----------+\n",
      "|     26.25|\n",
      "+----------+\n",
      "\n",
      "Group 3\n",
      "+----------+\n",
      "|negative %|\n",
      "+----------+\n",
      "|    33.571|\n",
      "+----------+\n",
      "\n",
      "Group 4\n",
      "+----------+\n",
      "|negative %|\n",
      "+----------+\n",
      "|    20.345|\n",
      "+----------+\n",
      "\n",
      "Group 5\n",
      "+----------+\n",
      "|negative %|\n",
      "+----------+\n",
      "|      26.0|\n",
      "+----------+\n",
      "\n",
      "Group 6\n",
      "+----------+\n",
      "|negative %|\n",
      "+----------+\n",
      "|     25.49|\n",
      "+----------+"
     ]
    }
   ],
   "source": [
    "return_moods(dfs, moods, None, 1)"
   ]
  },
  {
   "cell_type": "code",
   "execution_count": 18,
   "metadata": {},
   "outputs": [
    {
     "data": {
      "application/vnd.jupyter.widget-view+json": {
       "model_id": "5e4f18e81a0b4102bdbaa2822a80d2fc",
       "version_major": 2,
       "version_minor": 0
      },
      "text/plain": [
       "VBox()"
      ]
     },
     "metadata": {},
     "output_type": "display_data"
    },
    {
     "data": {
      "application/vnd.jupyter.widget-view+json": {
       "model_id": "2d6a27ba466a41bba3bbd5979ed8552d",
       "version_major": 2,
       "version_minor": 0
      },
      "text/plain": [
       "FloatProgress(value=0.0, bar_style='info', description='Progress:', layout=Layout(height='25px', width='50%'),…"
      ]
     },
     "metadata": {},
     "output_type": "display_data"
    },
    {
     "name": "stdout",
     "output_type": "stream",
     "text": [
      "Group 1\n",
      "+--------+\n",
      "|lonely %|\n",
      "+--------+\n",
      "|  35.556|\n",
      "+--------+\n",
      "\n",
      "Group 2\n",
      "+--------+\n",
      "|lonely %|\n",
      "+--------+\n",
      "|  34.167|\n",
      "+--------+\n",
      "\n",
      "Group 3\n",
      "+--------+\n",
      "|lonely %|\n",
      "+--------+\n",
      "|    40.0|\n",
      "+--------+\n",
      "\n",
      "Group 4\n",
      "+--------+\n",
      "|lonely %|\n",
      "+--------+\n",
      "|  25.862|\n",
      "+--------+\n",
      "\n",
      "Group 5\n",
      "+--------+\n",
      "|lonely %|\n",
      "+--------+\n",
      "|  29.333|\n",
      "+--------+\n",
      "\n",
      "Group 6\n",
      "+--------+\n",
      "|lonely %|\n",
      "+--------+\n",
      "|  31.765|\n",
      "+--------+"
     ]
    }
   ],
   "source": [
    "return_moods(dfs, moods, None, 2)"
   ]
  },
  {
   "cell_type": "code",
   "execution_count": 19,
   "metadata": {},
   "outputs": [
    {
     "data": {
      "application/vnd.jupyter.widget-view+json": {
       "model_id": "03a5103d12784470a3bd83c24d40e8c1",
       "version_major": 2,
       "version_minor": 0
      },
      "text/plain": [
       "VBox()"
      ]
     },
     "metadata": {},
     "output_type": "display_data"
    },
    {
     "data": {
      "application/vnd.jupyter.widget-view+json": {
       "model_id": "865572f058b642bcac91b3f69e3aec71",
       "version_major": 2,
       "version_minor": 0
      },
      "text/plain": [
       "FloatProgress(value=0.0, bar_style='info', description='Progress:', layout=Layout(height='25px', width='50%'),…"
      ]
     },
     "metadata": {},
     "output_type": "display_data"
    },
    {
     "name": "stdout",
     "output_type": "stream",
     "text": [
      "Group 1\n",
      "+--------+\n",
      "|energy %|\n",
      "+--------+\n",
      "|  36.111|\n",
      "+--------+\n",
      "\n",
      "Group 2\n",
      "+--------+\n",
      "|energy %|\n",
      "+--------+\n",
      "|    37.5|\n",
      "+--------+\n",
      "\n",
      "Group 3\n",
      "+--------+\n",
      "|energy %|\n",
      "+--------+\n",
      "|  14.286|\n",
      "+--------+\n",
      "\n",
      "Group 4\n",
      "+--------+\n",
      "|energy %|\n",
      "+--------+\n",
      "|  22.414|\n",
      "+--------+\n",
      "\n",
      "Group 5\n",
      "+--------+\n",
      "|energy %|\n",
      "+--------+\n",
      "|  33.333|\n",
      "+--------+\n",
      "\n",
      "Group 6\n",
      "+--------+\n",
      "|energy %|\n",
      "+--------+\n",
      "|   25.49|\n",
      "+--------+"
     ]
    }
   ],
   "source": [
    "return_moods(dfs, moods, None, 3)"
   ]
  },
  {
   "cell_type": "markdown",
   "metadata": {},
   "source": [
    "### Returning Percentages for Each Group"
   ]
  },
  {
   "cell_type": "code",
   "execution_count": 20,
   "metadata": {},
   "outputs": [
    {
     "data": {
      "application/vnd.jupyter.widget-view+json": {
       "model_id": "348f3303fb564f298b96752984d71f50",
       "version_major": 2,
       "version_minor": 0
      },
      "text/plain": [
       "VBox()"
      ]
     },
     "metadata": {},
     "output_type": "display_data"
    },
    {
     "data": {
      "application/vnd.jupyter.widget-view+json": {
       "model_id": "f48a68730ccb4d91a3f169180601c176",
       "version_major": 2,
       "version_minor": 0
      },
      "text/plain": [
       "FloatProgress(value=0.0, bar_style='info', description='Progress:', layout=Layout(height='25px', width='50%'),…"
      ]
     },
     "metadata": {},
     "output_type": "display_data"
    },
    {
     "name": "stdout",
     "output_type": "stream",
     "text": [
      "Group 1\n",
      "+----------+\n",
      "|positive %|\n",
      "+----------+\n",
      "|      75.0|\n",
      "+----------+\n",
      "\n",
      "Group 1\n",
      "+----------+\n",
      "|negative %|\n",
      "+----------+\n",
      "|    31.111|\n",
      "+----------+\n",
      "\n",
      "Group 1\n",
      "+--------+\n",
      "|lonely %|\n",
      "+--------+\n",
      "|  35.556|\n",
      "+--------+\n",
      "\n",
      "Group 1\n",
      "+--------+\n",
      "|energy %|\n",
      "+--------+\n",
      "|  36.111|\n",
      "+--------+"
     ]
    }
   ],
   "source": [
    "return_moods(dfs, moods, 0, None, False)"
   ]
  },
  {
   "cell_type": "code",
   "execution_count": 21,
   "metadata": {},
   "outputs": [
    {
     "data": {
      "application/vnd.jupyter.widget-view+json": {
       "model_id": "094d3485e68c40b89f34dca0491925bf",
       "version_major": 2,
       "version_minor": 0
      },
      "text/plain": [
       "VBox()"
      ]
     },
     "metadata": {},
     "output_type": "display_data"
    },
    {
     "data": {
      "application/vnd.jupyter.widget-view+json": {
       "model_id": "95ec8fd7fd15444092f87b856b9719bb",
       "version_major": 2,
       "version_minor": 0
      },
      "text/plain": [
       "FloatProgress(value=0.0, bar_style='info', description='Progress:', layout=Layout(height='25px', width='50%'),…"
      ]
     },
     "metadata": {},
     "output_type": "display_data"
    },
    {
     "name": "stdout",
     "output_type": "stream",
     "text": [
      "Group 2\n",
      "+----------+\n",
      "|positive %|\n",
      "+----------+\n",
      "|    85.417|\n",
      "+----------+\n",
      "\n",
      "Group 2\n",
      "+----------+\n",
      "|negative %|\n",
      "+----------+\n",
      "|     26.25|\n",
      "+----------+\n",
      "\n",
      "Group 2\n",
      "+--------+\n",
      "|lonely %|\n",
      "+--------+\n",
      "|  34.167|\n",
      "+--------+\n",
      "\n",
      "Group 2\n",
      "+--------+\n",
      "|energy %|\n",
      "+--------+\n",
      "|    37.5|\n",
      "+--------+"
     ]
    }
   ],
   "source": [
    "return_moods(dfs, moods, 1, None, False)"
   ]
  },
  {
   "cell_type": "code",
   "execution_count": 22,
   "metadata": {},
   "outputs": [
    {
     "data": {
      "application/vnd.jupyter.widget-view+json": {
       "model_id": "b4ca3731a95940b4aa427da6456a5eb2",
       "version_major": 2,
       "version_minor": 0
      },
      "text/plain": [
       "VBox()"
      ]
     },
     "metadata": {},
     "output_type": "display_data"
    },
    {
     "data": {
      "application/vnd.jupyter.widget-view+json": {
       "model_id": "5783b5e0b3194d11b9c29011637794ff",
       "version_major": 2,
       "version_minor": 0
      },
      "text/plain": [
       "FloatProgress(value=0.0, bar_style='info', description='Progress:', layout=Layout(height='25px', width='50%'),…"
      ]
     },
     "metadata": {},
     "output_type": "display_data"
    },
    {
     "name": "stdout",
     "output_type": "stream",
     "text": [
      "Group 3\n",
      "+----------+\n",
      "|positive %|\n",
      "+----------+\n",
      "|    66.071|\n",
      "+----------+\n",
      "\n",
      "Group 3\n",
      "+----------+\n",
      "|negative %|\n",
      "+----------+\n",
      "|    33.571|\n",
      "+----------+\n",
      "\n",
      "Group 3\n",
      "+--------+\n",
      "|lonely %|\n",
      "+--------+\n",
      "|    40.0|\n",
      "+--------+\n",
      "\n",
      "Group 3\n",
      "+--------+\n",
      "|energy %|\n",
      "+--------+\n",
      "|  14.286|\n",
      "+--------+"
     ]
    }
   ],
   "source": [
    "# least positive, most negative, most lonely, least energy\n",
    "return_moods(dfs, moods, 2, None, False)"
   ]
  },
  {
   "cell_type": "code",
   "execution_count": 23,
   "metadata": {},
   "outputs": [
    {
     "data": {
      "application/vnd.jupyter.widget-view+json": {
       "model_id": "ab7490fdb6e440e79cef61d4a1866489",
       "version_major": 2,
       "version_minor": 0
      },
      "text/plain": [
       "VBox()"
      ]
     },
     "metadata": {},
     "output_type": "display_data"
    },
    {
     "data": {
      "application/vnd.jupyter.widget-view+json": {
       "model_id": "6861de73df6f4762a34a355adbca2874",
       "version_major": 2,
       "version_minor": 0
      },
      "text/plain": [
       "FloatProgress(value=0.0, bar_style='info', description='Progress:', layout=Layout(height='25px', width='50%'),…"
      ]
     },
     "metadata": {},
     "output_type": "display_data"
    },
    {
     "name": "stdout",
     "output_type": "stream",
     "text": [
      "Group 4\n",
      "+----------+\n",
      "|positive %|\n",
      "+----------+\n",
      "|    89.655|\n",
      "+----------+\n",
      "\n",
      "Group 4\n",
      "+----------+\n",
      "|negative %|\n",
      "+----------+\n",
      "|    20.345|\n",
      "+----------+\n",
      "\n",
      "Group 4\n",
      "+--------+\n",
      "|lonely %|\n",
      "+--------+\n",
      "|  25.862|\n",
      "+--------+\n",
      "\n",
      "Group 4\n",
      "+--------+\n",
      "|energy %|\n",
      "+--------+\n",
      "|  22.414|\n",
      "+--------+"
     ]
    }
   ],
   "source": [
    "# most positive, least negative, least lonely, mediocre energy\n",
    "return_moods(dfs, moods, 3, None, False)"
   ]
  },
  {
   "cell_type": "code",
   "execution_count": 24,
   "metadata": {},
   "outputs": [
    {
     "data": {
      "application/vnd.jupyter.widget-view+json": {
       "model_id": "5ac1d47eed294192b32012ca27ceedfe",
       "version_major": 2,
       "version_minor": 0
      },
      "text/plain": [
       "VBox()"
      ]
     },
     "metadata": {},
     "output_type": "display_data"
    },
    {
     "data": {
      "application/vnd.jupyter.widget-view+json": {
       "model_id": "52198a3068a84d5683cb06293a46e80e",
       "version_major": 2,
       "version_minor": 0
      },
      "text/plain": [
       "FloatProgress(value=0.0, bar_style='info', description='Progress:', layout=Layout(height='25px', width='50%'),…"
      ]
     },
     "metadata": {},
     "output_type": "display_data"
    },
    {
     "name": "stdout",
     "output_type": "stream",
     "text": [
      "Group 5\n",
      "+----------+\n",
      "|positive %|\n",
      "+----------+\n",
      "|    83.333|\n",
      "+----------+\n",
      "\n",
      "Group 5\n",
      "+----------+\n",
      "|negative %|\n",
      "+----------+\n",
      "|      26.0|\n",
      "+----------+\n",
      "\n",
      "Group 5\n",
      "+--------+\n",
      "|lonely %|\n",
      "+--------+\n",
      "|  29.333|\n",
      "+--------+\n",
      "\n",
      "Group 5\n",
      "+--------+\n",
      "|energy %|\n",
      "+--------+\n",
      "|  33.333|\n",
      "+--------+"
     ]
    }
   ],
   "source": [
    "return_moods(dfs, moods, 4, None, False)"
   ]
  },
  {
   "cell_type": "code",
   "execution_count": 25,
   "metadata": {},
   "outputs": [
    {
     "data": {
      "application/vnd.jupyter.widget-view+json": {
       "model_id": "f512a65d885a496db8748590d899b4e4",
       "version_major": 2,
       "version_minor": 0
      },
      "text/plain": [
       "VBox()"
      ]
     },
     "metadata": {},
     "output_type": "display_data"
    },
    {
     "data": {
      "application/vnd.jupyter.widget-view+json": {
       "model_id": "09e8ff2c33f047889713539f9bc5ec90",
       "version_major": 2,
       "version_minor": 0
      },
      "text/plain": [
       "FloatProgress(value=0.0, bar_style='info', description='Progress:', layout=Layout(height='25px', width='50%'),…"
      ]
     },
     "metadata": {},
     "output_type": "display_data"
    },
    {
     "name": "stdout",
     "output_type": "stream",
     "text": [
      "Group 6\n",
      "+----------+\n",
      "|positive %|\n",
      "+----------+\n",
      "|    78.922|\n",
      "+----------+\n",
      "\n",
      "Group 6\n",
      "+----------+\n",
      "|negative %|\n",
      "+----------+\n",
      "|     25.49|\n",
      "+----------+\n",
      "\n",
      "Group 6\n",
      "+--------+\n",
      "|lonely %|\n",
      "+--------+\n",
      "|  31.765|\n",
      "+--------+\n",
      "\n",
      "Group 6\n",
      "+--------+\n",
      "|energy %|\n",
      "+--------+\n",
      "|   25.49|\n",
      "+--------+"
     ]
    }
   ],
   "source": [
    "return_moods(dfs, moods, 5, None, False)"
   ]
  },
  {
   "cell_type": "code",
   "execution_count": null,
   "metadata": {},
   "outputs": [
    {
     "data": {
      "application/vnd.jupyter.widget-view+json": {
       "model_id": "3962a74fb7054b57bb4cc7c05adee67a",
       "version_major": 2,
       "version_minor": 0
      },
      "text/plain": [
       "VBox()"
      ]
     },
     "metadata": {},
     "output_type": "display_data"
    },
    {
     "data": {
      "application/vnd.jupyter.widget-view+json": {
       "model_id": "22a7c13952f14096afa5764d0740fe90",
       "version_major": 2,
       "version_minor": 0
      },
      "text/plain": [
       "FloatProgress(value=0.0, bar_style='info', description='Progress:', layout=Layout(height='25px', width='50%'),…"
      ]
     },
     "metadata": {},
     "output_type": "display_data"
    }
   ],
   "source": [
    "## Ranking Groups\n",
    "# Ascending order ranks (lowest to highest)\n",
    "def return_mood_ranks(dfs, columns, df_idx=None, mood_idx=None):\n",
    "    mood_dict = {}\n",
    "    for idx, df in enumerate(dfs):\n",
    "        score = df.select(round(sum(df[moods[mood_idx]])/(df.count()*max_moods[mood_idx])*100,3).alias(f'{moods[mood_idx]} %')).toPandas().iloc[0][0]\n",
    "        mood_dict.update({f'Group {idx+1}' : score})\n",
    "    return (sorted(mood_dict, key=lambda x: mood_dict[x]))\n",
    "def print_ranks(ranks):\n",
    "    for i,rank in enumerate(ranks):\n",
    "        print(f'{i+1}. {rank}')\n",
    "def ranks_total():\n",
    "    pos_ranks_des = return_mood_ranks(dfs, moods, df_idx=None, mood_idx=0)\n",
    "    pos_ranks_des.reverse()\n",
    "    neg_ranks_des = return_mood_ranks(dfs, moods, df_idx=None, mood_idx=1)\n",
    "    lon_ranks_des = return_mood_ranks(dfs, moods, df_idx=None, mood_idx=2)\n",
    "    ene_ranks_des = return_mood_ranks(dfs, moods, df_idx=None, mood_idx=3)\n",
    "    ene_ranks_des.reverse()\n",
    "    print('Positive ranks in descending order:')\n",
    "    print_ranks(pos_ranks_des)\n",
    "    print()\n",
    "    print('Negative ranks in ascending order:')\n",
    "    print_ranks(neg_ranks_des)\n",
    "    print()\n",
    "    print('Lonely ranks in ascending order')\n",
    "    print_ranks(lon_ranks_des)\n",
    "    print()\n",
    "    print('Energy ranks in descending order')\n",
    "    print_ranks(ene_ranks_des)\n",
    "ranks_total()"
   ]
  },
  {
   "cell_type": "markdown",
   "metadata": {},
   "source": [
    "## Financial Information (Christabelle)\n",
    "1. Average Income Score\n",
    "2. Income breakdown for each category per group\n",
    "3. Financial Impact of Covid\n",
    "4. Work affected by Covid"
   ]
  },
  {
   "cell_type": "code",
   "execution_count": 26,
   "metadata": {},
   "outputs": [
    {
     "data": {
      "application/vnd.jupyter.widget-view+json": {
       "model_id": "7bc2f306e73745c9b3257ce341217548",
       "version_major": 2,
       "version_minor": 0
      },
      "text/plain": [
       "VBox()"
      ]
     },
     "metadata": {},
     "output_type": "display_data"
    },
    {
     "data": {
      "application/vnd.jupyter.widget-view+json": {
       "model_id": "6bcf225c7aca4aaf97e606c0e8c6a13e",
       "version_major": 2,
       "version_minor": 0
      },
      "text/plain": [
       "FloatProgress(value=0.0, bar_style='info', description='Progress:', layout=Layout(height='25px', width='50%'),…"
      ]
     },
     "metadata": {},
     "output_type": "display_data"
    },
    {
     "name": "stdout",
     "output_type": "stream",
     "text": [
      "Group 1\n",
      "+-----------------+\n",
      "|   Average Income|\n",
      "+-----------------+\n",
      "|4.861111111111111|\n",
      "+-----------------+\n",
      "\n",
      "Group 2\n",
      "+--------------+\n",
      "|Average Income|\n",
      "+--------------+\n",
      "|         4.125|\n",
      "+--------------+\n",
      "\n",
      "Group 3\n",
      "+-----------------+\n",
      "|   Average Income|\n",
      "+-----------------+\n",
      "|3.357142857142857|\n",
      "+-----------------+\n",
      "\n",
      "Group 4\n",
      "+-----------------+\n",
      "|   Average Income|\n",
      "+-----------------+\n",
      "|4.258620689655173|\n",
      "+-----------------+\n",
      "\n",
      "Group 5\n",
      "+-----------------+\n",
      "|   Average Income|\n",
      "+-----------------+\n",
      "|4.666666666666667|\n",
      "+-----------------+\n",
      "\n",
      "Group 6\n",
      "+-----------------+\n",
      "|   Average Income|\n",
      "+-----------------+\n",
      "|4.568627450980392|\n",
      "+-----------------+"
     ]
    }
   ],
   "source": [
    "# Average Income Score\n",
    "for i, df in enumerate(dfs):\n",
    "    print(f'Group {i+1}')\n",
    "    df.select(mean(df['income']).alias('Average Income')).show(5)"
   ]
  },
  {
   "cell_type": "code",
   "execution_count": 48,
   "metadata": {},
   "outputs": [
    {
     "data": {
      "application/vnd.jupyter.widget-view+json": {
       "model_id": "da692250f4f54c94ad7586774ce60402",
       "version_major": 2,
       "version_minor": 0
      },
      "text/plain": [
       "VBox()"
      ]
     },
     "metadata": {},
     "output_type": "display_data"
    },
    {
     "data": {
      "application/vnd.jupyter.widget-view+json": {
       "model_id": "e835db0727d8456487b0294c23bb740b",
       "version_major": 2,
       "version_minor": 0
      },
      "text/plain": [
       "FloatProgress(value=0.0, bar_style='info', description='Progress:', layout=Layout(height='25px', width='50%'),…"
      ]
     },
     "metadata": {},
     "output_type": "display_data"
    },
    {
     "name": "stdout",
     "output_type": "stream",
     "text": [
      "Group 1\n",
      "less than 20k :   0.0278\n",
      "20k to 35k    :   0.1111\n",
      "35k to 50k    :   0.0833\n",
      "50k to 75k    :   0.1389\n",
      "75k to 100k   :   0.0278\n",
      "100k+         :   0.6111\n",
      "\n",
      "\n",
      "Group 2\n",
      "less than 20k :   0.0833\n",
      "20k to 35k    :   0.2083\n",
      "35k to 50k    :   0.0833\n",
      "50k to 75k    :   0.1667\n",
      "75k to 100k   :   0.0417\n",
      "100k+         :   0.4167\n",
      "\n",
      "\n",
      "Group 3\n",
      "less than 20k :   0.2857\n",
      "20k to 35k    :   0.2143\n",
      "35k to 50k    :   0.0\n",
      "50k to 75k    :   0.1429\n",
      "75k to 100k   :   0.0714\n",
      "100k+         :   0.2857\n",
      "\n",
      "\n",
      "Group 4\n",
      "less than 20k :   0.0345\n",
      "20k to 35k    :   0.1034\n",
      "35k to 50k    :   0.1897\n",
      "50k to 75k    :   0.2069\n",
      "75k to 100k   :   0.1724\n",
      "100k+         :   0.2931\n",
      "\n",
      "\n",
      "Group 5\n",
      "less than 20k :   0.0333\n",
      "20k to 35k    :   0.1\n",
      "35k to 50k    :   0.0667\n",
      "50k to 75k    :   0.1667\n",
      "75k to 100k   :   0.2333\n",
      "100k+         :   0.4\n",
      "\n",
      "\n",
      "Group 6\n",
      "less than 20k :   0.0196\n",
      "20k to 35k    :   0.0588\n",
      "35k to 50k    :   0.1569\n",
      "50k to 75k    :   0.2157\n",
      "75k to 100k   :   0.1961\n",
      "100k+         :   0.3529"
     ]
    }
   ],
   "source": [
    "# Income \n",
    "income = ['less than 20k ',\n",
    "          '20k to 35k    ',\n",
    "          '35k to 50k    ',\n",
    "          '50k to 75k    ',\n",
    "          '75k to 100k   ',\n",
    "          '100k+         ']\n",
    "\n",
    "for idx, df in enumerate(dfs):\n",
    "    print(f'Group {idx+1}')\n",
    "    for i in range(6):\n",
    "        percent_income = df.filter(df['income'] == i+1).count()/df.count()\n",
    "        print(f\"{income[i]}:   {np.round(percent_income,4)}\")\n",
    "    print()\n",
    "    print()"
   ]
  },
  {
   "cell_type": "code",
   "execution_count": 49,
   "metadata": {},
   "outputs": [
    {
     "data": {
      "application/vnd.jupyter.widget-view+json": {
       "model_id": "8089b9feccb2476c92c5e8c18f714e5c",
       "version_major": 2,
       "version_minor": 0
      },
      "text/plain": [
       "VBox()"
      ]
     },
     "metadata": {},
     "output_type": "display_data"
    },
    {
     "data": {
      "application/vnd.jupyter.widget-view+json": {
       "model_id": "19b45d1d8ade40b496da3a4e57da0468",
       "version_major": 2,
       "version_minor": 0
      },
      "text/plain": [
       "FloatProgress(value=0.0, bar_style='info', description='Progress:', layout=Layout(height='25px', width='50%'),…"
      ]
     },
     "metadata": {},
     "output_type": "display_data"
    },
    {
     "name": "stdout",
     "output_type": "stream",
     "text": [
      "Group 1\n",
      "Finances Impacted:   0.4722\n",
      "Not Impacted     :   0.4722\n",
      "Dont Know        :   0.0556\n",
      "\n",
      "\n",
      "Group 2\n",
      "Finances Impacted:   0.1667\n",
      "Not Impacted     :   0.7917\n",
      "Dont Know        :   0.0417\n",
      "\n",
      "\n",
      "Group 3\n",
      "Finances Impacted:   0.5714\n",
      "Not Impacted     :   0.4286\n",
      "Dont Know        :   0.0\n",
      "\n",
      "\n",
      "Group 4\n",
      "Finances Impacted:   0.1724\n",
      "Not Impacted     :   0.8276\n",
      "Dont Know        :   0.0\n",
      "\n",
      "\n",
      "Group 5\n",
      "Finances Impacted:   0.3667\n",
      "Not Impacted     :   0.6\n",
      "Dont Know        :   0.0333\n",
      "\n",
      "\n",
      "Group 6\n",
      "Finances Impacted:   0.2549\n",
      "Not Impacted     :   0.7059\n",
      "Dont Know        :   0.0392"
     ]
    }
   ],
   "source": [
    "# Finances Affected by Covid\n",
    "finance_covid = ['Finances Impacted',\n",
    "                 'Not Impacted     ',\n",
    "                 'Dont Know        ']\n",
    "\n",
    "for idx, df in enumerate(dfs):\n",
    "    print(f'Group {idx+1}')\n",
    "    for i in range(3):\n",
    "        percent_finance_covid = df.filter(df['COVSocDisHouseFinance'] == 23+i).count()/df.count()\n",
    "        print(f\"{finance_covid[i]}:   {np.round(percent_finance_covid,4)}\")\n",
    "    print()\n",
    "    print()"
   ]
  },
  {
   "cell_type": "code",
   "execution_count": 50,
   "metadata": {},
   "outputs": [
    {
     "data": {
      "application/vnd.jupyter.widget-view+json": {
       "model_id": "5ffd934c51644431bbf9fb9b53d04f3c",
       "version_major": 2,
       "version_minor": 0
      },
      "text/plain": [
       "VBox()"
      ]
     },
     "metadata": {},
     "output_type": "display_data"
    },
    {
     "data": {
      "application/vnd.jupyter.widget-view+json": {
       "model_id": "2eced55388074227a0d0599bf1fff521",
       "version_major": 2,
       "version_minor": 0
      },
      "text/plain": [
       "FloatProgress(value=0.0, bar_style='info', description='Progress:', layout=Layout(height='25px', width='50%'),…"
      ]
     },
     "metadata": {},
     "output_type": "display_data"
    },
    {
     "name": "stdout",
     "output_type": "stream",
     "text": [
      "Group 1\n",
      "retired prior to pandemic       :   0.0278\n",
      "not working prior to pandemic   :   0.2222\n",
      "laid off during                 :   0.0833\n",
      "still employed but affected     :   0.0833\n",
      "employed but contineud some work:   0.2778\n",
      "not affected                    :   0.25\n",
      "\n",
      "\n",
      "Group 2\n",
      "retired prior to pandemic       :   0.75\n",
      "not working prior to pandemic   :   0.0\n",
      "laid off during                 :   0.0\n",
      "still employed but affected     :   0.0\n",
      "employed but contineud some work:   0.0417\n",
      "not affected                    :   0.0417\n",
      "\n",
      "\n",
      "Group 3\n",
      "retired prior to pandemic       :   0.0\n",
      "not working prior to pandemic   :   0.1429\n",
      "laid off during                 :   0.0\n",
      "still employed but affected     :   0.2857\n",
      "employed but contineud some work:   0.3571\n",
      "not affected                    :   0.0714\n",
      "\n",
      "\n",
      "Group 4\n",
      "retired prior to pandemic       :   0.6897\n",
      "not working prior to pandemic   :   0.0517\n",
      "laid off during                 :   0.0172\n",
      "still employed but affected     :   0.0172\n",
      "employed but contineud some work:   0.069\n",
      "not affected                    :   0.069\n",
      "\n",
      "\n",
      "Group 5\n",
      "retired prior to pandemic       :   0.1333\n",
      "not working prior to pandemic   :   0.2333\n",
      "laid off during                 :   0.0667\n",
      "still employed but affected     :   0.0333\n",
      "employed but contineud some work:   0.2667\n",
      "not affected                    :   0.1667\n",
      "\n",
      "\n",
      "Group 6\n",
      "retired prior to pandemic       :   0.4118\n",
      "not working prior to pandemic   :   0.0784\n",
      "laid off during                 :   0.0392\n",
      "still employed but affected     :   0.0784\n",
      "employed but contineud some work:   0.2353\n",
      "not affected                    :   0.1176"
     ]
    }
   ],
   "source": [
    "# Work Affected by Covid?\n",
    "employ = ['retired prior to pandemic       ', \n",
    "          'not working prior to pandemic   ', \n",
    "          'laid off during                 ', \n",
    "          'still employed but affected     ',\n",
    "          'employed but contineud some work',\n",
    "          'not affected                    ']\n",
    "\n",
    "nums = [1,4,5,6,7,8]\n",
    "\n",
    "for idx, df in enumerate(dfs):\n",
    "    print(f'Group {idx+1}')\n",
    "    for i in range(6):\n",
    "        percent_employ = df.filter(df['COVSocDisWork'] == nums[i]).count()/df.count()\n",
    "        print(f\"{employ[i]}:   {np.round(percent_employ,4)}\")\n",
    "    print()\n",
    "    print()"
   ]
  },
  {
   "cell_type": "markdown",
   "metadata": {},
   "source": [
    "## Demographics (Daniel)\n",
    "1. Age\n",
    "2. Education\n",
    "3. Biological Sex\n",
    "4. Veteran\n",
    "5. House Type"
   ]
  },
  {
   "cell_type": "code",
   "execution_count": 30,
   "metadata": {},
   "outputs": [
    {
     "data": {
      "application/vnd.jupyter.widget-view+json": {
       "model_id": "f2ed4f76031a4dab990b420f43961d94",
       "version_major": 2,
       "version_minor": 0
      },
      "text/plain": [
       "VBox()"
      ]
     },
     "metadata": {},
     "output_type": "display_data"
    },
    {
     "data": {
      "application/vnd.jupyter.widget-view+json": {
       "model_id": "e066202226f94191bed6d8bdf43b2be7",
       "version_major": 2,
       "version_minor": 0
      },
      "text/plain": [
       "FloatProgress(value=0.0, bar_style='info', description='Progress:', layout=Layout(height='25px', width='50%'),…"
      ]
     },
     "metadata": {},
     "output_type": "display_data"
    },
    {
     "name": "stdout",
     "output_type": "stream",
     "text": [
      "Group 1\n",
      "+-----------+\n",
      "|Average Age|\n",
      "+-----------+\n",
      "|       47.0|\n",
      "+-----------+\n",
      "\n",
      "Group 2\n",
      "+-----------+\n",
      "|Average Age|\n",
      "+-----------+\n",
      "|       79.0|\n",
      "+-----------+\n",
      "\n",
      "Group 3\n",
      "+-----------+\n",
      "|Average Age|\n",
      "+-----------+\n",
      "|       29.0|\n",
      "+-----------+\n",
      "\n",
      "Group 4\n",
      "+-----------+\n",
      "|Average Age|\n",
      "+-----------+\n",
      "|       70.0|\n",
      "+-----------+\n",
      "\n",
      "Group 5\n",
      "+-----------+\n",
      "|Average Age|\n",
      "+-----------+\n",
      "|       56.0|\n",
      "+-----------+\n",
      "\n",
      "Group 6\n",
      "+-----------+\n",
      "|Average Age|\n",
      "+-----------+\n",
      "|       63.0|\n",
      "+-----------+"
     ]
    }
   ],
   "source": [
    "dfs = [first, second, third, fourth, fifth, sixth]\n",
    "for i, x in enumerate(dfs):\n",
    "    print(f'Group {i+1}')\n",
    "    x.select(round(avg('age'),0).alias('Average Age')).show()"
   ]
  },
  {
   "cell_type": "code",
   "execution_count": 51,
   "metadata": {},
   "outputs": [
    {
     "data": {
      "application/vnd.jupyter.widget-view+json": {
       "model_id": "c4422bfffc50427498a2b810375d9c3f",
       "version_major": 2,
       "version_minor": 0
      },
      "text/plain": [
       "VBox()"
      ]
     },
     "metadata": {},
     "output_type": "display_data"
    },
    {
     "data": {
      "application/vnd.jupyter.widget-view+json": {
       "model_id": "0ef10ddf59fa4bdca8cfebbc696aedc9",
       "version_major": 2,
       "version_minor": 0
      },
      "text/plain": [
       "FloatProgress(value=0.0, bar_style='info', description='Progress:', layout=Layout(height='25px', width='50%'),…"
      ]
     },
     "metadata": {},
     "output_type": "display_data"
    },
    {
     "name": "stdout",
     "output_type": "stream",
     "text": [
      "Group 1\n",
      "full time :   0.3611\n",
      "part time :   0.25\n",
      "retired   :   0.0833\n",
      "unemployed:   0.3056\n",
      "\n",
      "\n",
      "Group 2\n",
      "full time :   0.0417\n",
      "part time :   0.0\n",
      "retired   :   0.9583\n",
      "unemployed:   0.0\n",
      "\n",
      "\n",
      "Group 3\n",
      "full time :   0.5\n",
      "part time :   0.2143\n",
      "retired   :   0.0\n",
      "unemployed:   0.2857\n",
      "\n",
      "\n",
      "Group 4\n",
      "full time :   0.0345\n",
      "part time :   0.0517\n",
      "retired   :   0.8966\n",
      "unemployed:   0.0172\n",
      "\n",
      "\n",
      "Group 5\n",
      "full time :   0.3333\n",
      "part time :   0.2667\n",
      "retired   :   0.1333\n",
      "unemployed:   0.2667\n",
      "\n",
      "\n",
      "Group 6\n",
      "full time :   0.2353\n",
      "part time :   0.1569\n",
      "retired   :   0.4706\n",
      "unemployed:   0.1373"
     ]
    }
   ],
   "source": [
    "# Employment\n",
    "employment = ['full time ',\n",
    "              'part time ',\n",
    "              'retired   ',\n",
    "              'unemployed']\n",
    "\n",
    "for idx, df in enumerate(dfs):\n",
    "    print(f'Group {idx+1}')\n",
    "    for i in range(4):\n",
    "        percent_employ = df.filter(df['employment'] == i+1).count()/df.count()\n",
    "        print(f\"{employment[i]}:   {np.round(percent_employ,4)}\")\n",
    "    print()\n",
    "    print()"
   ]
  },
  {
   "cell_type": "code",
   "execution_count": 52,
   "metadata": {},
   "outputs": [
    {
     "data": {
      "application/vnd.jupyter.widget-view+json": {
       "model_id": "c39a5b7515d7491f85cbf45547f33058",
       "version_major": 2,
       "version_minor": 0
      },
      "text/plain": [
       "VBox()"
      ]
     },
     "metadata": {},
     "output_type": "display_data"
    },
    {
     "data": {
      "application/vnd.jupyter.widget-view+json": {
       "model_id": "a3f9ce4747c04e648785c431c8f90bab",
       "version_major": 2,
       "version_minor": 0
      },
      "text/plain": [
       "FloatProgress(value=0.0, bar_style='info', description='Progress:', layout=Layout(height='25px', width='50%'),…"
      ]
     },
     "metadata": {},
     "output_type": "display_data"
    },
    {
     "name": "stdout",
     "output_type": "stream",
     "text": [
      "Group 1\n",
      "Male   :   0.25\n",
      "Female :   0.75\n",
      "\n",
      "\n",
      "Group 2\n",
      "Male   :   0.3333\n",
      "Female :   0.6667\n",
      "\n",
      "\n",
      "Group 3\n",
      "Male   :   0.3571\n",
      "Female :   0.6429\n",
      "\n",
      "\n",
      "Group 4\n",
      "Male   :   0.3448\n",
      "Female :   0.6552\n",
      "\n",
      "\n",
      "Group 5\n",
      "Male   :   0.3\n",
      "Female :   0.7\n",
      "\n",
      "\n",
      "Group 6\n",
      "Male   :   0.4118\n",
      "Female :   0.5882"
     ]
    }
   ],
   "source": [
    "# Biological Sex\n",
    "region = ['Male   ',\n",
    "          'Female ']\n",
    "for idx, df in enumerate(dfs):\n",
    "    print(f'Group {idx+1}')\n",
    "    for i in range(2):\n",
    "        percent_gender = df.filter(df['Sex'] == 1+i).count()/df.count()\n",
    "        print(f\"{region[i]}:   {np.round(percent_gender,4)}\")\n",
    "    print()\n",
    "    print()"
   ]
  },
  {
   "cell_type": "code",
   "execution_count": 53,
   "metadata": {},
   "outputs": [
    {
     "data": {
      "application/vnd.jupyter.widget-view+json": {
       "model_id": "490a41524ecb450ebae638558ea37906",
       "version_major": 2,
       "version_minor": 0
      },
      "text/plain": [
       "VBox()"
      ]
     },
     "metadata": {},
     "output_type": "display_data"
    },
    {
     "data": {
      "application/vnd.jupyter.widget-view+json": {
       "model_id": "cf0f8cdbfe7c4e64aa0b789aef51c75e",
       "version_major": 2,
       "version_minor": 0
      },
      "text/plain": [
       "FloatProgress(value=0.0, bar_style='info', description='Progress:', layout=Layout(height='25px', width='50%'),…"
      ]
     },
     "metadata": {},
     "output_type": "display_data"
    },
    {
     "name": "stdout",
     "output_type": "stream",
     "text": [
      "Group 1\n",
      "Not Veteran :   1.0\n",
      "Veteran     :   0.0\n",
      "\n",
      "\n",
      "Group 2\n",
      "Not Veteran :   0.8333\n",
      "Veteran     :   0.1667\n",
      "\n",
      "\n",
      "Group 3\n",
      "Not Veteran :   1.0\n",
      "Veteran     :   0.0\n",
      "\n",
      "\n",
      "Group 4\n",
      "Not Veteran :   0.8621\n",
      "Veteran     :   0.1379\n",
      "\n",
      "\n",
      "Group 5\n",
      "Not Veteran :   0.9667\n",
      "Veteran     :   0.0333\n",
      "\n",
      "\n",
      "Group 6\n",
      "Not Veteran :   0.9412\n",
      "Veteran     :   0.0588"
     ]
    }
   ],
   "source": [
    "# Veteran\n",
    "veteran = ['Not Veteran ',\n",
    "           'Veteran     ']\n",
    "for idx, df in enumerate(dfs):\n",
    "    print(f'Group {idx+1}')\n",
    "    for i in range(2):\n",
    "        percent_veteran = df.filter(df['Veteran'] == i).count()/df.count()\n",
    "        print(f\"{veteran[i]}:   {np.round(percent_veteran,4)}\")\n",
    "    print()\n",
    "    print()"
   ]
  },
  {
   "cell_type": "code",
   "execution_count": 54,
   "metadata": {},
   "outputs": [
    {
     "data": {
      "application/vnd.jupyter.widget-view+json": {
       "model_id": "098533a9d13d4d329e43a2157fb88e60",
       "version_major": 2,
       "version_minor": 0
      },
      "text/plain": [
       "VBox()"
      ]
     },
     "metadata": {},
     "output_type": "display_data"
    },
    {
     "data": {
      "application/vnd.jupyter.widget-view+json": {
       "model_id": "3d6266b5599a425fa20d9c27720127a2",
       "version_major": 2,
       "version_minor": 0
      },
      "text/plain": [
       "FloatProgress(value=0.0, bar_style='info', description='Progress:', layout=Layout(height='25px', width='50%'),…"
      ]
     },
     "metadata": {},
     "output_type": "display_data"
    },
    {
     "name": "stdout",
     "output_type": "stream",
     "text": [
      "Group 1\n",
      "House           :   0.8611\n",
      "Apartment       :   0.1389\n",
      "Dorm            :   0.0\n",
      "Senior Facility :   0.0\n",
      "Assisted        :   0.0\n",
      "Nursing Facility:   0.0\n",
      "Homeless        :   0.0\n",
      "\n",
      "\n",
      "Group 2\n",
      "House           :   0.75\n",
      "Apartment       :   0.0833\n",
      "Dorm            :   0.0\n",
      "Senior Facility :   0.0833\n",
      "Assisted        :   0.0\n",
      "Nursing Facility:   0.0417\n",
      "Homeless        :   0.0\n",
      "\n",
      "\n",
      "Group 3\n",
      "House           :   0.7143\n",
      "Apartment       :   0.2857\n",
      "Dorm            :   0.0\n",
      "Senior Facility :   0.0\n",
      "Assisted        :   0.0\n",
      "Nursing Facility:   0.0\n",
      "Homeless        :   0.0\n",
      "\n",
      "\n",
      "Group 4\n",
      "House           :   0.8621\n",
      "Apartment       :   0.1379\n",
      "Dorm            :   0.0\n",
      "Senior Facility :   0.0\n",
      "Assisted        :   0.0\n",
      "Nursing Facility:   0.0\n",
      "Homeless        :   0.0\n",
      "\n",
      "\n",
      "Group 5\n",
      "House           :   0.9667\n",
      "Apartment       :   0.0\n",
      "Dorm            :   0.0\n",
      "Senior Facility :   0.0\n",
      "Assisted        :   0.0\n",
      "Nursing Facility:   0.0\n",
      "Homeless        :   0.0\n",
      "\n",
      "\n",
      "Group 6\n",
      "House           :   0.8235\n",
      "Apartment       :   0.1373\n",
      "Dorm            :   0.0\n",
      "Senior Facility :   0.0\n",
      "Assisted        :   0.0\n",
      "Nursing Facility:   0.0\n",
      "Homeless        :   0.0"
     ]
    }
   ],
   "source": [
    "#COVLivingSituation\n",
    "living = ['House           ',\n",
    "          'Apartment       ',\n",
    "          'Dorm            ', \n",
    "          'Senior Facility ',\n",
    "          'Assisted        ',\n",
    "          'Nursing Facility',\n",
    "          'Homeless        ']\n",
    "\n",
    "for idx, df in enumerate(dfs):\n",
    "    print(f'Group {idx+1}')\n",
    "    for i in range(7):\n",
    "        percent_living = df.filter(df['COVLivingSituation'] == 1+i).count()/df.count()\n",
    "        print(f\"{living[i]}:   {np.round(percent_living,4)}\")\n",
    "    print()\n",
    "    print()"
   ]
  },
  {
   "cell_type": "markdown",
   "metadata": {},
   "source": [
    "## Affect of Parkinson's Symptoms on Covid (Victor)\n"
   ]
  },
  {
   "cell_type": "code",
   "execution_count": 71,
   "metadata": {},
   "outputs": [
    {
     "data": {
      "application/vnd.jupyter.widget-view+json": {
       "model_id": "f602a2aff88f429192da71aa96cafc74",
       "version_major": 2,
       "version_minor": 0
      },
      "text/plain": [
       "VBox()"
      ]
     },
     "metadata": {},
     "output_type": "display_data"
    },
    {
     "data": {
      "application/vnd.jupyter.widget-view+json": {
       "model_id": "49056bb41d544f77a6ae2e14bec4bc12",
       "version_major": 2,
       "version_minor": 0
      },
      "text/plain": [
       "FloatProgress(value=0.0, bar_style='info', description='Progress:', layout=Layout(height='25px', width='50%'),…"
      ]
     },
     "metadata": {},
     "output_type": "display_data"
    }
   ],
   "source": [
    "syms =['COVSympChill',\n",
    " 'COVSympSweat',\n",
    " 'COVSympShortBreath',\n",
    " 'COVSympChestTight',\n",
    " 'COVSympChestPain',\n",
    " 'COVSympTired',\n",
    " 'COVSympSleepy',\n",
    " 'COVSympSoreThroat',\n",
    " 'COVSympCongest',\n",
    " 'COVSympMuscleAche',\n",
    " 'COVSympJointPain',\n",
    " 'COVSympLoseSmell',\n",
    " 'COVSympLoseTase',\n",
    " 'COVSympLoseApetite',\n",
    " 'COVSympDiarrhea',\n",
    " 'COVSympStomachPain',\n",
    " 'COVSympNausea',\n",
    " 'COVSympVomit',\n",
    " 'COVSympLightHead']\n",
    "cov_sym = ['Did not have ',\n",
    "           'Became worse ',\n",
    "           'Didnt change ',\n",
    "           'Became better',\n",
    "           'New Symptom  ']"
   ]
  },
  {
   "cell_type": "code",
   "execution_count": null,
   "metadata": {},
   "outputs": [
    {
     "data": {
      "application/vnd.jupyter.widget-view+json": {
       "model_id": "d7f2481c07e44b1e8d102175581123e3",
       "version_major": 2,
       "version_minor": 0
      },
      "text/plain": [
       "VBox()"
      ]
     },
     "metadata": {},
     "output_type": "display_data"
    },
    {
     "data": {
      "application/vnd.jupyter.widget-view+json": {
       "model_id": "43e820ad4f4f494e8baedb5d15ff4d51",
       "version_major": 2,
       "version_minor": 0
      },
      "text/plain": [
       "FloatProgress(value=0.0, bar_style='info', description='Progress:', layout=Layout(height='25px', width='50%'),…"
      ]
     },
     "metadata": {},
     "output_type": "display_data"
    }
   ],
   "source": [
    "# Did this symptom change during covid?\n",
    "dfs2 = [fourth, fifth]\n",
    "avg_symp = []\n",
    "fourth_symp = []\n",
    "fifth_symp = []\n",
    "\n",
    "for s in syms:\n",
    "    \n",
    "    print(f'Average for {s}')\n",
    "    \n",
    "    for i in range(5):\n",
    "        mean_symp = []\n",
    "        for df in dfs:\n",
    "            mean_symp.append(df.filter(df[s]==i+1).count()/df.count())\n",
    "        print(f\"{cov_sym[i]}:   {np.round(np.mean(mean_symp),4)}\")\n",
    "        if (i == 1):\n",
    "            avg_symp.append(df.filter(df[s]==i+1).count()/df.count())\n",
    "    print()\n",
    "    print()\n",
    "    \n",
    "    for idx, df2 in enumerate(dfs2):\n",
    "        print(f'Group {idx+4}')\n",
    "        for i in range(5):\n",
    "            percent_symp = df2.filter(df2[s] == i+1).count()/df2.count()\n",
    "            print(f\"{cov_sym[i]}:   {np.round(percent_symp,4)}\")\n",
    "            if (i==1) and (df2==fourth):\n",
    "                fourth_symp.append(np.round(percent_symp,4))\n",
    "            if (i==1) and (df2==fifth):\n",
    "                fifth_symp.append(np.round(percent_symp,4))\n",
    "        print()\n",
    "        print()\n",
    "    print()\n",
    "    print()\n",
    "    print()\n",
    "    print()"
   ]
  },
  {
   "cell_type": "code",
   "execution_count": null,
   "metadata": {},
   "outputs": [],
   "source": [
    "# Group 4 Against the Average\n",
    "[avg_symp[i] < fourth_symp[i] for i in range(19)]"
   ]
  },
  {
   "cell_type": "code",
   "execution_count": null,
   "metadata": {},
   "outputs": [],
   "source": [
    "# Group 5 Against the Average\n",
    "[avg_symp[i] < fifth_symp[i] for i in range(19)]"
   ]
  },
  {
   "cell_type": "code",
   "execution_count": 62,
   "metadata": {},
   "outputs": [
    {
     "data": {
      "application/vnd.jupyter.widget-view+json": {
       "model_id": "3213ffd0d7114de1a563f0459424e3fe",
       "version_major": 2,
       "version_minor": 0
      },
      "text/plain": [
       "VBox()"
      ]
     },
     "metadata": {},
     "output_type": "display_data"
    },
    {
     "data": {
      "application/vnd.jupyter.widget-view+json": {
       "model_id": "9d6a6642a37d40d098b5db797c597bcb",
       "version_major": 2,
       "version_minor": 0
      },
      "text/plain": [
       "FloatProgress(value=0.0, bar_style='info', description='Progress:', layout=Layout(height='25px', width='50%'),…"
      ]
     },
     "metadata": {},
     "output_type": "display_data"
    },
    {
     "name": "stdout",
     "output_type": "stream",
     "text": [
      "Group 1\n",
      "Yes      :   0.1389\n",
      "No       :   0.8333\n",
      "Dont Know:   0.0278\n",
      "\n",
      "\n",
      "Group 2\n",
      "Yes      :   0.0417\n",
      "No       :   0.9167\n",
      "Dont Know:   0.0417\n",
      "\n",
      "\n",
      "Group 3\n",
      "Yes      :   0.2143\n",
      "No       :   0.7857\n",
      "Dont Know:   0.0\n",
      "\n",
      "\n",
      "Group 4\n",
      "Yes      :   0.069\n",
      "No       :   0.931\n",
      "Dont Know:   0.0\n",
      "\n",
      "\n",
      "Group 5\n",
      "Yes      :   0.1667\n",
      "No       :   0.8333\n",
      "Dont Know:   0.0\n",
      "\n",
      "\n",
      "Group 6\n",
      "Yes      :   0.1569\n",
      "No       :   0.8431\n",
      "Dont Know:   0.0"
     ]
    }
   ],
   "source": [
    "# Instructed to self isolate?\n",
    "isolate = ['Yes      ',\n",
    "           'No       ',\n",
    "           'Dont Know']\n",
    "\n",
    "for idx, df in enumerate(dfs):\n",
    "    print(f'Group {idx+1}')\n",
    "    for i in range(3):\n",
    "        percent_isolate = df.filter(df['COVSelfIsolate'] == i+1).count()/df.count()\n",
    "        print(f\"{isolate[i]}:   {np.round(percent_isolate,4)}\")\n",
    "    print()\n",
    "    print()"
   ]
  },
  {
   "cell_type": "markdown",
   "metadata": {},
   "source": [
    "## Additional Analysis (Christabelle, Daniel and Victor)"
   ]
  },
  {
   "cell_type": "code",
   "execution_count": 63,
   "metadata": {},
   "outputs": [
    {
     "data": {
      "application/vnd.jupyter.widget-view+json": {
       "model_id": "bd7c0ad0274b4abd9917582011527d9b",
       "version_major": 2,
       "version_minor": 0
      },
      "text/plain": [
       "VBox()"
      ]
     },
     "metadata": {},
     "output_type": "display_data"
    },
    {
     "data": {
      "application/vnd.jupyter.widget-view+json": {
       "model_id": "5c705877b8604e2990e1b4a8a91ba0bb",
       "version_major": 2,
       "version_minor": 0
      },
      "text/plain": [
       "FloatProgress(value=0.0, bar_style='info', description='Progress:', layout=Layout(height='25px', width='50%'),…"
      ]
     },
     "metadata": {},
     "output_type": "display_data"
    },
    {
     "name": "stdout",
     "output_type": "stream",
     "text": [
      "+-----------------+\n",
      "|  avg(COVProDiag)|\n",
      "+-----------------+\n",
      "|4.861111111111111|\n",
      "+-----------------+"
     ]
    }
   ],
   "source": [
    "first.select(mean(first['COVProDiag'])).show(5)"
   ]
  },
  {
   "cell_type": "code",
   "execution_count": 64,
   "metadata": {},
   "outputs": [
    {
     "data": {
      "application/vnd.jupyter.widget-view+json": {
       "model_id": "c8b194e25e994b208ac5f7c5e04fd7ba",
       "version_major": 2,
       "version_minor": 0
      },
      "text/plain": [
       "VBox()"
      ]
     },
     "metadata": {},
     "output_type": "display_data"
    },
    {
     "data": {
      "application/vnd.jupyter.widget-view+json": {
       "model_id": "13ca195cf104404f8a40b46784bdd976",
       "version_major": 2,
       "version_minor": 0
      },
      "text/plain": [
       "FloatProgress(value=0.0, bar_style='info', description='Progress:', layout=Layout(height='25px', width='50%'),…"
      ]
     },
     "metadata": {},
     "output_type": "display_data"
    },
    {
     "name": "stdout",
     "output_type": "stream",
     "text": [
      "+---------------+\n",
      "|avg(COVProDiag)|\n",
      "+---------------+\n",
      "|            5.0|\n",
      "+---------------+"
     ]
    }
   ],
   "source": [
    "fourth.select(mean(first['COVProDiag'])).show(5)"
   ]
  },
  {
   "cell_type": "code",
   "execution_count": null,
   "metadata": {},
   "outputs": [],
   "source": [
    "for df in dfs:\n",
    "    df.select(mean(df['COVSelfIsolate'])).show(5)"
   ]
  },
  {
   "cell_type": "code",
   "execution_count": 66,
   "metadata": {},
   "outputs": [
    {
     "data": {
      "application/vnd.jupyter.widget-view+json": {
       "model_id": "6be114974d2e4bedb5dbbfff3f550ddd",
       "version_major": 2,
       "version_minor": 0
      },
      "text/plain": [
       "VBox()"
      ]
     },
     "metadata": {},
     "output_type": "display_data"
    },
    {
     "data": {
      "application/vnd.jupyter.widget-view+json": {
       "model_id": "d2b9cfc86ee74c639d0aeb7f145824ca",
       "version_major": 2,
       "version_minor": 0
      },
      "text/plain": [
       "FloatProgress(value=0.0, bar_style='info', description='Progress:', layout=Layout(height='25px', width='50%'),…"
      ]
     },
     "metadata": {},
     "output_type": "display_data"
    }
   ],
   "source": [
    "covid_alter = ['COVAlterPhysTher',\n",
    " 'COVAlterSpeechTher',\n",
    " 'COVAlterOccTher',\n",
    " 'COVAlterMenHealth',\n",
    " 'COVAlterSpprtGrp',\n",
    " 'COVAlterExercise',\n",
    " 'COVAlterSeeFamily',\n",
    " 'COVAlterSeeFriend',\n",
    " 'COVAlterCommunAct',\n",
    " 'COVAlterReligAct',\n",
    " 'COVAlterVolntrAct',\n",
    " 'COVAlterClinVisit',\n",
    " 'COVAlterOthMedApt']"
   ]
  },
  {
   "cell_type": "code",
   "execution_count": 67,
   "metadata": {},
   "outputs": [
    {
     "data": {
      "application/vnd.jupyter.widget-view+json": {
       "model_id": "dd3f5fb6cc6a472aaec8dd7d7cdd142d",
       "version_major": 2,
       "version_minor": 0
      },
      "text/plain": [
       "VBox()"
      ]
     },
     "metadata": {},
     "output_type": "display_data"
    },
    {
     "data": {
      "application/vnd.jupyter.widget-view+json": {
       "model_id": "073a0a6c0a7643769be2c87a9bb0733e",
       "version_major": 2,
       "version_minor": 0
      },
      "text/plain": [
       "FloatProgress(value=0.0, bar_style='info', description='Progress:', layout=Layout(height='25px', width='50%'),…"
      ]
     },
     "metadata": {},
     "output_type": "display_data"
    },
    {
     "name": "stdout",
     "output_type": "stream",
     "text": [
      "COVAlterPhysTher\n",
      "Group 1\n",
      "Cancelled        :   0.0278\n",
      "Postponed        :   0.0278\n",
      "Alternate Methods:   0.0\n",
      "NA               :   0.9444\n",
      "\n",
      "\n",
      "Group 2\n",
      "Cancelled        :   0.0417\n",
      "Postponed        :   0.125\n",
      "Alternate Methods:   0.0833\n",
      "NA               :   0.75\n",
      "\n",
      "\n",
      "Group 3\n",
      "Cancelled        :   0.0714\n",
      "Postponed        :   0.0\n",
      "Alternate Methods:   0.0\n",
      "NA               :   0.9286\n",
      "\n",
      "\n",
      "Group 4\n",
      "Cancelled        :   0.1034\n",
      "Postponed        :   0.1034\n",
      "Alternate Methods:   0.0862\n",
      "NA               :   0.7069\n",
      "\n",
      "\n",
      "Group 5\n",
      "Cancelled        :   0.1667\n",
      "Postponed        :   0.0333\n",
      "Alternate Methods:   0.0333\n",
      "NA               :   0.7667\n",
      "\n",
      "\n",
      "Group 6\n",
      "Cancelled        :   0.0784\n",
      "Postponed        :   0.0784\n",
      "Alternate Methods:   0.0392\n",
      "NA               :   0.8039\n",
      "\n",
      "\n",
      "\n",
      "\n",
      "\n",
      "\n",
      "COVAlterSpeechTher\n",
      "Group 1\n",
      "Cancelled        :   0.0278\n",
      "Postponed        :   0.0\n",
      "Alternate Methods:   0.0\n",
      "NA               :   0.9722\n",
      "\n",
      "\n",
      "Group 2\n",
      "Cancelled        :   0.0417\n",
      "Postponed        :   0.0833\n",
      "Alternate Methods:   0.0\n",
      "NA               :   0.875\n",
      "\n",
      "\n",
      "Group 3\n",
      "Cancelled        :   0.0\n",
      "Postponed        :   0.0\n",
      "Alternate Methods:   0.0\n",
      "NA               :   1.0\n",
      "\n",
      "\n",
      "Group 4\n",
      "Cancelled        :   0.0172\n",
      "Postponed        :   0.0345\n",
      "Alternate Methods:   0.069\n",
      "NA               :   0.8793\n",
      "\n",
      "\n",
      "Group 5\n",
      "Cancelled        :   0.0667\n",
      "Postponed        :   0.0\n",
      "Alternate Methods:   0.0333\n",
      "NA               :   0.9\n",
      "\n",
      "\n",
      "Group 6\n",
      "Cancelled        :   0.0\n",
      "Postponed        :   0.0196\n",
      "Alternate Methods:   0.0\n",
      "NA               :   0.9804\n",
      "\n",
      "\n",
      "\n",
      "\n",
      "\n",
      "\n",
      "COVAlterOccTher\n",
      "Group 1\n",
      "Cancelled        :   0.0278\n",
      "Postponed        :   0.0\n",
      "Alternate Methods:   0.0\n",
      "NA               :   0.9722\n",
      "\n",
      "\n",
      "Group 2\n",
      "Cancelled        :   0.0\n",
      "Postponed        :   0.0417\n",
      "Alternate Methods:   0.0417\n",
      "NA               :   0.9167\n",
      "\n",
      "\n",
      "Group 3\n",
      "Cancelled        :   0.0\n",
      "Postponed        :   0.0\n",
      "Alternate Methods:   0.0\n",
      "NA               :   1.0\n",
      "\n",
      "\n",
      "Group 4\n",
      "Cancelled        :   0.0172\n",
      "Postponed        :   0.0345\n",
      "Alternate Methods:   0.0345\n",
      "NA               :   0.9138\n",
      "\n",
      "\n",
      "Group 5\n",
      "Cancelled        :   0.0667\n",
      "Postponed        :   0.0\n",
      "Alternate Methods:   0.0\n",
      "NA               :   0.9333\n",
      "\n",
      "\n",
      "Group 6\n",
      "Cancelled        :   0.0196\n",
      "Postponed        :   0.0\n",
      "Alternate Methods:   0.0\n",
      "NA               :   0.9804\n",
      "\n",
      "\n",
      "\n",
      "\n",
      "\n",
      "\n",
      "COVAlterMenHealth\n",
      "Group 1\n",
      "Cancelled        :   0.0\n",
      "Postponed        :   0.0833\n",
      "Alternate Methods:   0.2222\n",
      "NA               :   0.6944\n",
      "\n",
      "\n",
      "Group 2\n",
      "Cancelled        :   0.0\n",
      "Postponed        :   0.0\n",
      "Alternate Methods:   0.0417\n",
      "NA               :   0.9583\n",
      "\n",
      "\n",
      "Group 3\n",
      "Cancelled        :   0.0\n",
      "Postponed        :   0.0714\n",
      "Alternate Methods:   0.2143\n",
      "NA               :   0.7143\n",
      "\n",
      "\n",
      "Group 4\n",
      "Cancelled        :   0.0345\n",
      "Postponed        :   0.0172\n",
      "Alternate Methods:   0.1034\n",
      "NA               :   0.8448\n",
      "\n",
      "\n",
      "Group 5\n",
      "Cancelled        :   0.0667\n",
      "Postponed        :   0.0333\n",
      "Alternate Methods:   0.1333\n",
      "NA               :   0.7667\n",
      "\n",
      "\n",
      "Group 6\n",
      "Cancelled        :   0.0\n",
      "Postponed        :   0.0\n",
      "Alternate Methods:   0.0784\n",
      "NA               :   0.9216\n",
      "\n",
      "\n",
      "\n",
      "\n",
      "\n",
      "\n",
      "COVAlterSpprtGrp\n",
      "Group 1\n",
      "Cancelled        :   0.0278\n",
      "Postponed        :   0.0\n",
      "Alternate Methods:   0.0556\n",
      "NA               :   0.9167\n",
      "\n",
      "\n",
      "Group 2\n",
      "Cancelled        :   0.1667\n",
      "Postponed        :   0.0833\n",
      "Alternate Methods:   0.0417\n",
      "NA               :   0.7083\n",
      "\n",
      "\n",
      "Group 3\n",
      "Cancelled        :   0.0\n",
      "Postponed        :   0.0\n",
      "Alternate Methods:   0.1429\n",
      "NA               :   0.8571\n",
      "\n",
      "\n",
      "Group 4\n",
      "Cancelled        :   0.1034\n",
      "Postponed        :   0.0345\n",
      "Alternate Methods:   0.1034\n",
      "NA               :   0.7586\n",
      "\n",
      "\n",
      "Group 5\n",
      "Cancelled        :   0.1\n",
      "Postponed        :   0.0\n",
      "Alternate Methods:   0.1\n",
      "NA               :   0.8\n",
      "\n",
      "\n",
      "Group 6\n",
      "Cancelled        :   0.0784\n",
      "Postponed        :   0.0196\n",
      "Alternate Methods:   0.0392\n",
      "NA               :   0.8627\n",
      "\n",
      "\n",
      "\n",
      "\n",
      "\n",
      "\n",
      "COVAlterExercise\n",
      "Group 1\n",
      "Cancelled        :   0.1944\n",
      "Postponed        :   0.1111\n",
      "Alternate Methods:   0.3056\n",
      "NA               :   0.3889\n",
      "\n",
      "\n",
      "Group 2\n",
      "Cancelled        :   0.2083\n",
      "Postponed        :   0.1667\n",
      "Alternate Methods:   0.375\n",
      "NA               :   0.25\n",
      "\n",
      "\n",
      "Group 3\n",
      "Cancelled        :   0.2143\n",
      "Postponed        :   0.0\n",
      "Alternate Methods:   0.2143\n",
      "NA               :   0.5714\n",
      "\n",
      "\n",
      "Group 4\n",
      "Cancelled        :   0.1897\n",
      "Postponed        :   0.1034\n",
      "Alternate Methods:   0.3448\n",
      "NA               :   0.3621\n",
      "\n",
      "\n",
      "Group 5\n",
      "Cancelled        :   0.2\n",
      "Postponed        :   0.0333\n",
      "Alternate Methods:   0.3\n",
      "NA               :   0.4667\n",
      "\n",
      "\n",
      "Group 6\n",
      "Cancelled        :   0.1961\n",
      "Postponed        :   0.1176\n",
      "Alternate Methods:   0.2745\n",
      "NA               :   0.4118\n",
      "\n",
      "\n",
      "\n",
      "\n",
      "\n",
      "\n",
      "COVAlterSeeFamily\n",
      "Group 1\n",
      "Cancelled        :   0.25\n",
      "Postponed        :   0.25\n",
      "Alternate Methods:   0.3333\n",
      "NA               :   0.1667\n",
      "\n",
      "\n",
      "Group 2\n",
      "Cancelled        :   0.2083\n",
      "Postponed        :   0.2917\n",
      "Alternate Methods:   0.375\n",
      "NA               :   0.125\n",
      "\n",
      "\n",
      "Group 3\n",
      "Cancelled        :   0.2143\n",
      "Postponed        :   0.2857\n",
      "Alternate Methods:   0.3571\n",
      "NA               :   0.1429\n",
      "\n",
      "\n",
      "Group 4\n",
      "Cancelled        :   0.1552\n",
      "Postponed        :   0.2931\n",
      "Alternate Methods:   0.4138\n",
      "NA               :   0.1379\n",
      "\n",
      "\n",
      "Group 5\n",
      "Cancelled        :   0.2667\n",
      "Postponed        :   0.2667\n",
      "Alternate Methods:   0.3\n",
      "NA               :   0.1667\n",
      "\n",
      "\n",
      "Group 6\n",
      "Cancelled        :   0.2157\n",
      "Postponed        :   0.2745\n",
      "Alternate Methods:   0.3529\n",
      "NA               :   0.1569\n",
      "\n",
      "\n",
      "\n",
      "\n",
      "\n",
      "\n",
      "COVAlterSeeFriend\n",
      "Group 1\n",
      "Cancelled        :   0.2222\n",
      "Postponed        :   0.25\n",
      "Alternate Methods:   0.3333\n",
      "NA               :   0.1944\n",
      "\n",
      "\n",
      "Group 2\n",
      "Cancelled        :   0.25\n",
      "Postponed        :   0.25\n",
      "Alternate Methods:   0.3333\n",
      "NA               :   0.1667\n",
      "\n",
      "\n",
      "Group 3\n",
      "Cancelled        :   0.3571\n",
      "Postponed        :   0.1429\n",
      "Alternate Methods:   0.2857\n",
      "NA               :   0.2143\n",
      "\n",
      "\n",
      "Group 4\n",
      "Cancelled        :   0.2414\n",
      "Postponed        :   0.3448\n",
      "Alternate Methods:   0.2931\n",
      "NA               :   0.1207\n",
      "\n",
      "\n",
      "Group 5\n",
      "Cancelled        :   0.2333\n",
      "Postponed        :   0.3\n",
      "Alternate Methods:   0.4\n",
      "NA               :   0.0667\n",
      "\n",
      "\n",
      "Group 6\n",
      "Cancelled        :   0.2157\n",
      "Postponed        :   0.3333\n",
      "Alternate Methods:   0.3529\n",
      "NA               :   0.098\n",
      "\n",
      "\n",
      "\n",
      "\n",
      "\n",
      "\n",
      "COVAlterCommunAct\n",
      "Group 1\n",
      "Cancelled        :   0.4167\n",
      "Postponed        :   0.1667\n",
      "Alternate Methods:   0.0833\n",
      "NA               :   0.3333\n",
      "\n",
      "\n",
      "Group 2\n",
      "Cancelled        :   0.2917\n",
      "Postponed        :   0.125\n",
      "Alternate Methods:   0.0833\n",
      "NA               :   0.5\n",
      "\n",
      "\n",
      "Group 3\n",
      "Cancelled        :   0.4286\n",
      "Postponed        :   0.0\n",
      "Alternate Methods:   0.1429\n",
      "NA               :   0.4286\n",
      "\n",
      "\n",
      "Group 4\n",
      "Cancelled        :   0.2931\n",
      "Postponed        :   0.1724\n",
      "Alternate Methods:   0.1724\n",
      "NA               :   0.3621\n",
      "\n",
      "\n",
      "Group 5\n",
      "Cancelled        :   0.3\n",
      "Postponed        :   0.1667\n",
      "Alternate Methods:   0.1667\n",
      "NA               :   0.3667\n",
      "\n",
      "\n",
      "Group 6\n",
      "Cancelled        :   0.3725\n",
      "Postponed        :   0.2549\n",
      "Alternate Methods:   0.1373\n",
      "NA               :   0.2353\n",
      "\n",
      "\n",
      "\n",
      "\n",
      "\n",
      "\n",
      "COVAlterReligAct\n",
      "Group 1\n",
      "Cancelled        :   0.1944\n",
      "Postponed        :   0.0556\n",
      "Alternate Methods:   0.25\n",
      "NA               :   0.5\n",
      "\n",
      "\n",
      "Group 2\n",
      "Cancelled        :   0.125\n",
      "Postponed        :   0.125\n",
      "Alternate Methods:   0.1667\n",
      "NA               :   0.5833\n",
      "\n",
      "\n",
      "Group 3\n",
      "Cancelled        :   0.0\n",
      "Postponed        :   0.0714\n",
      "Alternate Methods:   0.0714\n",
      "NA               :   0.8571\n",
      "\n",
      "\n",
      "Group 4\n",
      "Cancelled        :   0.1552\n",
      "Postponed        :   0.069\n",
      "Alternate Methods:   0.2931\n",
      "NA               :   0.4828\n",
      "\n",
      "\n",
      "Group 5\n",
      "Cancelled        :   0.1667\n",
      "Postponed        :   0.1\n",
      "Alternate Methods:   0.3667\n",
      "NA               :   0.3667\n",
      "\n",
      "\n",
      "Group 6\n",
      "Cancelled        :   0.2745\n",
      "Postponed        :   0.0588\n",
      "Alternate Methods:   0.1961\n",
      "NA               :   0.4706\n",
      "\n",
      "\n",
      "\n",
      "\n",
      "\n",
      "\n",
      "COVAlterVolntrAct\n",
      "Group 1\n",
      "Cancelled        :   0.1111\n",
      "Postponed        :   0.0833\n",
      "Alternate Methods:   0.0556\n",
      "NA               :   0.75\n",
      "\n",
      "\n",
      "Group 2\n",
      "Cancelled        :   0.0833\n",
      "Postponed        :   0.0417\n",
      "Alternate Methods:   0.125\n",
      "NA               :   0.75\n",
      "\n",
      "\n",
      "Group 3\n",
      "Cancelled        :   0.1429\n",
      "Postponed        :   0.0\n",
      "Alternate Methods:   0.0714\n",
      "NA               :   0.7857\n",
      "\n",
      "\n",
      "Group 4\n",
      "Cancelled        :   0.1379\n",
      "Postponed        :   0.1207\n",
      "Alternate Methods:   0.069\n",
      "NA               :   0.6724\n",
      "\n",
      "\n",
      "Group 5\n",
      "Cancelled        :   0.1667\n",
      "Postponed        :   0.1333\n",
      "Alternate Methods:   0.1333\n",
      "NA               :   0.5667\n",
      "\n",
      "\n",
      "Group 6\n",
      "Cancelled        :   0.3137\n",
      "Postponed        :   0.0784\n",
      "Alternate Methods:   0.1176\n",
      "NA               :   0.4902\n",
      "\n",
      "\n",
      "\n",
      "\n",
      "\n",
      "\n",
      "COVAlterClinVisit\n",
      "Group 1\n",
      "Cancelled        :   0.0556\n",
      "Postponed        :   0.0833\n",
      "Alternate Methods:   0.0556\n",
      "NA               :   0.8056\n",
      "\n",
      "\n",
      "Group 2\n",
      "Cancelled        :   0.125\n",
      "Postponed        :   0.125\n",
      "Alternate Methods:   0.0\n",
      "NA               :   0.75\n",
      "\n",
      "\n",
      "Group 3\n",
      "Cancelled        :   0.0\n",
      "Postponed        :   0.0\n",
      "Alternate Methods:   0.0\n",
      "NA               :   1.0\n",
      "\n",
      "\n",
      "Group 4\n",
      "Cancelled        :   0.0345\n",
      "Postponed        :   0.069\n",
      "Alternate Methods:   0.0345\n",
      "NA               :   0.8621\n",
      "\n",
      "\n",
      "Group 5\n",
      "Cancelled        :   0.0667\n",
      "Postponed        :   0.0667\n",
      "Alternate Methods:   0.0\n",
      "NA               :   0.8667\n",
      "\n",
      "\n",
      "Group 6\n",
      "Cancelled        :   0.1176\n",
      "Postponed        :   0.0196\n",
      "Alternate Methods:   0.0196\n",
      "NA               :   0.8431\n",
      "\n",
      "\n",
      "\n",
      "\n",
      "\n",
      "\n",
      "COVAlterOthMedApt\n",
      "Group 1\n",
      "Cancelled        :   0.2222\n",
      "Postponed        :   0.3056\n",
      "Alternate Methods:   0.1111\n",
      "NA               :   0.3611\n",
      "\n",
      "\n",
      "Group 2\n",
      "Cancelled        :   0.1667\n",
      "Postponed        :   0.2917\n",
      "Alternate Methods:   0.0833\n",
      "NA               :   0.4583\n",
      "\n",
      "\n",
      "Group 3\n",
      "Cancelled        :   0.0\n",
      "Postponed        :   0.4286\n",
      "Alternate Methods:   0.0714\n",
      "NA               :   0.5\n",
      "\n",
      "\n",
      "Group 4\n",
      "Cancelled        :   0.1552\n",
      "Postponed        :   0.3793\n",
      "Alternate Methods:   0.1207\n",
      "NA               :   0.3448\n",
      "\n",
      "\n",
      "Group 5\n",
      "Cancelled        :   0.1\n",
      "Postponed        :   0.2667\n",
      "Alternate Methods:   0.2\n",
      "NA               :   0.4333\n",
      "\n",
      "\n",
      "Group 6\n",
      "Cancelled        :   0.2941\n",
      "Postponed        :   0.2549\n",
      "Alternate Methods:   0.1373\n",
      "NA               :   0.3137"
     ]
    }
   ],
   "source": [
    "# Has Covid affected other aspects of living?\n",
    "for alter in covid_alter:\n",
    "    print(alter)\n",
    "    therapy = ['Cancelled        ', \n",
    "               'Postponed        ', \n",
    "               'Alternate Methods', \n",
    "               'NA               ']\n",
    "\n",
    "    for idx, df in enumerate(dfs):\n",
    "        print(f'Group {idx+1}')\n",
    "        for i in range(4):\n",
    "            percent_therapy = df.filter(df[alter] == i+1).count()/df.count()\n",
    "            print(f\"{therapy[i]}:   {np.round(percent_therapy,4)}\")\n",
    "        print()\n",
    "        print()\n",
    "    print()\n",
    "    print()\n",
    "    print()\n",
    "    print()"
   ]
  },
  {
   "cell_type": "code",
   "execution_count": 142,
   "metadata": {},
   "outputs": [],
   "source": [
    "sc.stop()\n",
    "ss.stop()"
   ]
  }
 ],
 "metadata": {
  "kernelspec": {
   "display_name": "Python 3",
   "language": "python",
   "name": "python3"
  },
  "language_info": {
   "codemirror_mode": {
    "name": "ipython",
    "version": 3
   },
   "file_extension": ".py",
   "mimetype": "text/x-python",
   "name": "python",
   "nbconvert_exporter": "python",
   "pygments_lexer": "ipython3",
   "version": "3.8.5"
  }
 },
 "nbformat": 4,
 "nbformat_minor": 5
}
